{
 "cells": [
  {
   "cell_type": "code",
   "execution_count": 1,
   "id": "fb3651bd-8c96-46ab-ac6e-8fdb6b15dda1",
   "metadata": {},
   "outputs": [],
   "source": [
    "import warnings\n",
    "warnings.filterwarnings('ignore')\n",
    "import os\n",
    "import numpy as np\n",
    "import pandas as pd\n",
    "import matplotlib.pyplot as plt\n",
    "\n",
    "import keras\n",
    "from keras.utils import to_categorical\n",
    "\n",
    "import cv2\n",
    "\n",
    "from keras.models import Sequential, Model\n",
    "from keras.layers import Conv2D, MaxPooling2D, Dense, Dropout, Activation, Flatten, BatchNormalization\n",
    "from keras.optimizers import Adam\n",
    "from keras.preprocessing.image import ImageDataGenerator\n",
    "from keras.callbacks import ModelCheckpoint, EarlyStopping, ReduceLROnPlateau"
   ]
  },
  {
   "cell_type": "code",
   "execution_count": 2,
   "id": "88e4ae12-cc88-45ef-a9b4-57a93fde7a80",
   "metadata": {},
   "outputs": [
    {
     "data": {
      "text/plain": [
       "True"
      ]
     },
     "execution_count": 2,
     "metadata": {},
     "output_type": "execute_result"
    }
   ],
   "source": [
    "import torch\n",
    "torch.cuda.is_available()"
   ]
  },
  {
   "cell_type": "code",
   "execution_count": 3,
   "id": "527abc7d-0aa3-49f1-9964-dc80a8b6ec85",
   "metadata": {},
   "outputs": [],
   "source": [
    "os.environ[\"CUDA_VISIBLE_DEVICES\"] = \"0\""
   ]
  },
  {
   "cell_type": "code",
   "execution_count": 4,
   "id": "3909124e-814e-4a09-b7f2-ff3a5017026b",
   "metadata": {},
   "outputs": [
    {
     "name": "stdout",
     "output_type": "stream",
     "text": [
      "[[[ 23  23  23]\n",
      "  [ 52  52  52]\n",
      "  [ 54  54  54]\n",
      "  ...\n",
      "  [173 173 173]\n",
      "  [ 98  98  98]\n",
      "  [ 42  42  42]]\n",
      "\n",
      " [[ 23  23  23]\n",
      "  [ 48  48  48]\n",
      "  [ 53  53  53]\n",
      "  ...\n",
      "  [174 174 174]\n",
      "  [104 104 104]\n",
      "  [ 34  34  34]]\n",
      "\n",
      " [[ 30  30  30]\n",
      "  [ 50  50  50]\n",
      "  [ 55  55  55]\n",
      "  ...\n",
      "  [175 175 175]\n",
      "  [113 113 113]\n",
      "  [ 36  36  36]]\n",
      "\n",
      " ...\n",
      "\n",
      " [[ 31  31  31]\n",
      "  [ 28  28  28]\n",
      "  [ 29  29  29]\n",
      "  ...\n",
      "  [ 54  54  54]\n",
      "  [ 80  80  80]\n",
      "  [101 101 101]]\n",
      "\n",
      " [[ 31  31  31]\n",
      "  [ 29  29  29]\n",
      "  [ 30  30  30]\n",
      "  ...\n",
      "  [ 55  55  55]\n",
      "  [ 80  80  80]\n",
      "  [ 96  96  96]]\n",
      "\n",
      " [[ 29  29  29]\n",
      "  [ 31  31  31]\n",
      "  [ 28  28  28]\n",
      "  ...\n",
      "  [ 59  59  59]\n",
      "  [ 79  79  79]\n",
      "  [ 89  89  89]]]\n"
     ]
    }
   ],
   "source": [
    "cv2_image = cv2.imread(\"./FER-2013-5emotion/train/angry/Training_992349.jpg\")\n",
    "print(cv2_image)"
   ]
  },
  {
   "cell_type": "code",
   "execution_count": 5,
   "id": "9e4ee0a7-9778-484a-99c8-032386edfb60",
   "metadata": {},
   "outputs": [
    {
     "data": {
      "text/plain": [
       "<matplotlib.image.AxesImage at 0x26bc9de8d00>"
      ]
     },
     "execution_count": 5,
     "metadata": {},
     "output_type": "execute_result"
    },
    {
     "data": {
      "image/png": "[encoded data removed]",
      "text/plain": [
       "<Figure size 640x480 with 1 Axes>"
      ]
     },
     "metadata": {},
     "output_type": "display_data"
    }
   ],
   "source": [
    "plt.imshow(cv2_image)"
   ]
  },
  {
   "cell_type": "code",
   "execution_count": 6,
   "id": "dfc8f033-3279-4fee-a150-b4cd1c1d3b04",
   "metadata": {},
   "outputs": [],
   "source": [
    "train_data_gen = ImageDataGenerator(rescale=1./255, validation_split=0.2)\n",
    "test_data_gen = ImageDataGenerator(rescale=1./255)"
   ]
  },
  {
   "cell_type": "code",
   "execution_count": 7,
   "id": "b4fcd7b3-bb11-4d33-88c5-80a57fe09e79",
   "metadata": {},
   "outputs": [],
   "source": [
    "BATCH_SIZE = 32"
   ]
  },
  {
   "cell_type": "code",
   "execution_count": 8,
   "id": "95aa53a7-fc95-4fdf-a4b6-aa04f39c46be",
   "metadata": {},
   "outputs": [
    {
     "name": "stdout",
     "output_type": "stream",
     "text": [
      "Found 19341 images belonging to 5 classes.\n"
     ]
    }
   ],
   "source": [
    "train_generator = train_data_gen.flow_from_directory(\n",
    "    './FER-2013-5emotion/train',\n",
    "    subset='training',\n",
    "    target_size = (48, 48),\n",
    "    batch_size = BATCH_SIZE,\n",
    "    color_mode = 'grayscale',\n",
    "    class_mode = 'categorical'\n",
    ")"
   ]
  },
  {
   "cell_type": "code",
   "execution_count": 9,
   "id": "e1ac4a62-6a92-4f15-bc85-092a5378fed2",
   "metadata": {},
   "outputs": [
    {
     "name": "stdout",
     "output_type": "stream",
     "text": [
      "Found 4835 images belonging to 5 classes.\n"
     ]
    }
   ],
   "source": [
    "valid_generator = train_data_gen.flow_from_directory(\n",
    "    './FER-2013-5emotion/train',\n",
    "    subset='validation',\n",
    "    target_size = (48, 48),\n",
    "    batch_size = BATCH_SIZE,\n",
    "    color_mode = 'grayscale',\n",
    "    class_mode = 'categorical'\n",
    ")"
   ]
  },
  {
   "cell_type": "code",
   "execution_count": 10,
   "id": "25dd74ed-c15c-4223-b7a2-5e62ec6bb3df",
   "metadata": {},
   "outputs": [
    {
     "name": "stdout",
     "output_type": "stream",
     "text": [
      "Found 6043 images belonging to 5 classes.\n"
     ]
    }
   ],
   "source": [
    "test_generator = test_data_gen.flow_from_directory(\n",
    "    './FER-2013-5emotion/test',\n",
    "    target_size = (48, 48),\n",
    "    batch_size = BATCH_SIZE,\n",
    "    color_mode = 'grayscale',\n",
    "    class_mode = 'categorical'\n",
    ")"
   ]
  },
  {
   "cell_type": "code",
   "execution_count": 11,
   "id": "2fe1e029-1bf3-4704-96ae-0ecc4dab1785",
   "metadata": {},
   "outputs": [],
   "source": [
    "model = Sequential()\n",
    "#model.add(Conv2D(32, kernel_size=(3,3), activation='relu', input_shape=(48, 48, 1), padding='same'))\n",
    "model.add(Conv2D(32, kernel_size=(3,3), activation='relu', input_shape=(48, 48, 1)))\n",
    "model.add(Conv2D(64, kernel_size=(3,3), activation='relu'))\n",
    "model.add(MaxPooling2D(pool_size=(2,2)))\n",
    "model.add(Dropout(0.25))\n",
    "\n",
    "model.add(Conv2D(128, kernel_size=(3,3), activation='relu'))\n",
    "model.add(Conv2D(256, kernel_size=(3,3), activation='relu'))\n",
    "# model.add(BatchNormalization())\n",
    "model.add(MaxPooling2D(pool_size=(2,2)))\n",
    "model.add(Dropout(0.25))\n",
    "\n",
    "model.add(Conv2D(512, kernel_size=(3,3), activation='relu'))\n",
    "#model.add(Conv2D(512, kernel_size=(3,3), activation='relu', padding='same'))\n",
    "# model.add(BatchNormalization())\n",
    "model.add(MaxPooling2D(pool_size=(2,2)))\n",
    "model.add(Dropout(0.25))\n",
    "\n",
    "model.add(Flatten())\n",
    "model.add(Dense(1024, activation='relu'))\n",
    "model.add(Dropout(0.5))\n",
    "# model.add(Dense(128, activation='relu'))\n",
    "# model.add(Dropout(0.5))\n",
    "model.add(Dense(5, activation='softmax'))"
   ]
  },
  {
   "cell_type": "code",
   "execution_count": 12,
   "id": "00b1a5f2-b6db-4abd-8de0-4fe871bf9822",
   "metadata": {},
   "outputs": [],
   "source": [
    "# model = Sequential()\n",
    "# model.add(Conv2D(32, kernel_size=(3,3), activation='relu', input_shape=(48, 48, 1), padding='same'))\n",
    "# model.add(Conv2D(64, kernel_size=(3,3)))\n",
    "# model.add(BatchNormalization())\n",
    "# model.add(Activation('relu'))\n",
    "# model.add(MaxPooling2D(pool_size=(2,2)))\n",
    "# model.add(Dropout(0.25))\n",
    "\n",
    "# model.add(Conv2D(128, kernel_size=(3,3), activation='relu', padding='same'))\n",
    "# model.add(Conv2D(256, kernel_size=(3,3)))\n",
    "# model.add(BatchNormalization())\n",
    "# model.add(Activation('relu'))\n",
    "# model.add(MaxPooling2D(pool_size=(2,2)))\n",
    "# model.add(Dropout(0.25))\n",
    "\n",
    "# model.add(Conv2D(512, kernel_size=(3,3), activation='relu', padding='same'))\n",
    "# model.add(Conv2D(512, kernel_size=(3,3), padding='same'))\n",
    "# model.add(BatchNormalization())\n",
    "# model.add(Activation('relu'))\n",
    "# model.add(MaxPooling2D(pool_size=(2,2)))\n",
    "# model.add(Dropout(0.25))\n",
    "\n",
    "# model.add(Flatten())\n",
    "# model.add(Dense(1024, activation='relu'))\n",
    "# model.add(Dropout(0.5))\n",
    "# # model.add(Dense(128, activation='relu'))\n",
    "# # model.add(Dropout(0.5))\n",
    "# model.add(Dense(5, activation='softmax'))"
   ]
  },
  {
   "cell_type": "code",
   "execution_count": 12,
   "id": "e45aa62d-c3e9-4ec7-8acc-33be9c086b47",
   "metadata": {},
   "outputs": [
    {
     "name": "stdout",
     "output_type": "stream",
     "text": [
      "Model: \"sequential\"\n",
      "_________________________________________________________________\n",
      " Layer (type)                Output Shape              Param #   \n",
      "=================================================================\n",
      " conv2d (Conv2D)             (None, 46, 46, 32)        320       \n",
      "                                                                 \n",
      " conv2d_1 (Conv2D)           (None, 44, 44, 64)        18496     \n",
      "                                                                 \n",
      " max_pooling2d (MaxPooling2D  (None, 22, 22, 64)       0         \n",
      " )                                                               \n",
      "                                                                 \n",
      " dropout (Dropout)           (None, 22, 22, 64)        0         \n",
      "                                                                 \n",
      " conv2d_2 (Conv2D)           (None, 20, 20, 128)       73856     \n",
      "                                                                 \n",
      " conv2d_3 (Conv2D)           (None, 18, 18, 256)       295168    \n",
      "                                                                 \n",
      " max_pooling2d_1 (MaxPooling  (None, 9, 9, 256)        0         \n",
      " 2D)                                                             \n",
      "                                                                 \n",
      " dropout_1 (Dropout)         (None, 9, 9, 256)         0         \n",
      "                                                                 \n",
      " conv2d_4 (Conv2D)           (None, 7, 7, 512)         1180160   \n",
      "                                                                 \n",
      " max_pooling2d_2 (MaxPooling  (None, 3, 3, 512)        0         \n",
      " 2D)                                                             \n",
      "                                                                 \n",
      " dropout_2 (Dropout)         (None, 3, 3, 512)         0         \n",
      "                                                                 \n",
      " flatten (Flatten)           (None, 4608)              0         \n",
      "                                                                 \n",
      " dense (Dense)               (None, 1024)              4719616   \n",
      "                                                                 \n",
      " dropout_3 (Dropout)         (None, 1024)              0         \n",
      "                                                                 \n",
      " dense_1 (Dense)             (None, 5)                 5125      \n",
      "                                                                 \n",
      "=================================================================\n",
      "Total params: 6,292,741\n",
      "Trainable params: 6,292,741\n",
      "Non-trainable params: 0\n",
      "_________________________________________________________________\n"
     ]
    }
   ],
   "source": [
    "model.summary()"
   ]
  },
  {
   "cell_type": "code",
   "execution_count": 13,
   "id": "3fe903de-8197-4b49-b9d4-4672ea1db527",
   "metadata": {},
   "outputs": [],
   "source": [
    "model.compile(loss='categorical_crossentropy', optimizer=Adam(learning_rate=0.001, decay=0.0001), metrics=['accuracy'])"
   ]
  },
  {
   "cell_type": "code",
   "execution_count": 14,
   "id": "35c3c95f-bef6-4f9a-aa5e-325bfab926d1",
   "metadata": {},
   "outputs": [],
   "source": [
    "checkpoint = ModelCheckpoint(filepath='c://Projects/emotion_detect_project/best_model_5emotion/', monitor='val_loss', mode='min', save_vest_only=True)"
   ]
  },
  {
   "cell_type": "code",
   "execution_count": 15,
   "id": "b0a05127-7343-407a-be4c-434be83af13b",
   "metadata": {},
   "outputs": [],
   "source": [
    "earlystopping = EarlyStopping(monitor='val_loss', patience=40, restore_best_weights=True)"
   ]
  },
  {
   "cell_type": "code",
   "execution_count": 16,
   "id": "929d0a8d-b8c6-48fa-a2a5-d1240c6376dd",
   "metadata": {},
   "outputs": [],
   "source": [
    "reduce_lr = ReduceLROnPlateau(monitor='val_loss', factor=0.1, patience=10, min_delta=0.0005, mode=\"min\")"
   ]
  },
  {
   "cell_type": "code",
   "execution_count": 17,
   "id": "56815377-9cb6-4176-9092-2f6322fe81fe",
   "metadata": {
    "scrolled": true
   },
   "outputs": [
    {
     "name": "stdout",
     "output_type": "stream",
     "text": [
      "Epoch 1/100\n",
      "602/604 [============================>.] - ETA: 0s - loss: 1.5757 - accuracy: 0.2966"
     ]
    },
    {
     "name": "stderr",
     "output_type": "stream",
     "text": [
      "WARNING:absl:Found untraced functions such as _jit_compiled_convolution_op, _jit_compiled_convolution_op, _jit_compiled_convolution_op, _jit_compiled_convolution_op, _jit_compiled_convolution_op while saving (showing 5 of 5). These functions will not be directly callable after loading.\n"
     ]
    },
    {
     "name": "stdout",
     "output_type": "stream",
     "text": [
      "INFO:tensorflow:Assets written to: c://Projects/emotion_detect_project/best_model_5emotion\\/assets\n"
     ]
    },
    {
     "name": "stderr",
     "output_type": "stream",
     "text": [
      "INFO:tensorflow:Assets written to: c://Projects/emotion_detect_project/best_model_5emotion\\/assets\n"
     ]
    },
    {
     "name": "stdout",
     "output_type": "stream",
     "text": [
      "604/604 [==============================] - 19s 24ms/step - loss: 1.5758 - accuracy: 0.2963 - val_loss: 1.5670 - val_accuracy: 0.2997 - lr: 0.0010\n",
      "Epoch 2/100\n",
      "602/604 [============================>.] - ETA: 0s - loss: 1.4624 - accuracy: 0.3623"
     ]
    },
    {
     "name": "stderr",
     "output_type": "stream",
     "text": [
      "WARNING:absl:Found untraced functions such as _jit_compiled_convolution_op, _jit_compiled_convolution_op, _jit_compiled_convolution_op, _jit_compiled_convolution_op, _jit_compiled_convolution_op while saving (showing 5 of 5). These functions will not be directly callable after loading.\n"
     ]
    },
    {
     "name": "stdout",
     "output_type": "stream",
     "text": [
      "INFO:tensorflow:Assets written to: c://Projects/emotion_detect_project/best_model_5emotion\\/assets\n"
     ]
    },
    {
     "name": "stderr",
     "output_type": "stream",
     "text": [
      "INFO:tensorflow:Assets written to: c://Projects/emotion_detect_project/best_model_5emotion\\/assets\n"
     ]
    },
    {
     "name": "stdout",
     "output_type": "stream",
     "text": [
      "604/604 [==============================] - 14s 22ms/step - loss: 1.4617 - accuracy: 0.3628 - val_loss: 1.3429 - val_accuracy: 0.4373 - lr: 0.0010\n",
      "Epoch 3/100\n",
      "604/604 [==============================] - ETA: 0s - loss: 1.2894 - accuracy: 0.4644"
     ]
    },
    {
     "name": "stderr",
     "output_type": "stream",
     "text": [
      "WARNING:absl:Found untraced functions such as _jit_compiled_convolution_op, _jit_compiled_convolution_op, _jit_compiled_convolution_op, _jit_compiled_convolution_op, _jit_compiled_convolution_op while saving (showing 5 of 5). These functions will not be directly callable after loading.\n"
     ]
    },
    {
     "name": "stdout",
     "output_type": "stream",
     "text": [
      "INFO:tensorflow:Assets written to: c://Projects/emotion_detect_project/best_model_5emotion\\/assets\n"
     ]
    },
    {
     "name": "stderr",
     "output_type": "stream",
     "text": [
      "INFO:tensorflow:Assets written to: c://Projects/emotion_detect_project/best_model_5emotion\\/assets\n"
     ]
    },
    {
     "name": "stdout",
     "output_type": "stream",
     "text": [
      "604/604 [==============================] - 14s 23ms/step - loss: 1.2894 - accuracy: 0.4644 - val_loss: 1.1670 - val_accuracy: 0.5207 - lr: 0.0010\n",
      "Epoch 4/100\n",
      "602/604 [============================>.] - ETA: 0s - loss: 1.1460 - accuracy: 0.5296"
     ]
    },
    {
     "name": "stderr",
     "output_type": "stream",
     "text": [
      "WARNING:absl:Found untraced functions such as _jit_compiled_convolution_op, _jit_compiled_convolution_op, _jit_compiled_convolution_op, _jit_compiled_convolution_op, _jit_compiled_convolution_op while saving (showing 5 of 5). These functions will not be directly callable after loading.\n"
     ]
    },
    {
     "name": "stdout",
     "output_type": "stream",
     "text": [
      "INFO:tensorflow:Assets written to: c://Projects/emotion_detect_project/best_model_5emotion\\/assets\n"
     ]
    },
    {
     "name": "stderr",
     "output_type": "stream",
     "text": [
      "INFO:tensorflow:Assets written to: c://Projects/emotion_detect_project/best_model_5emotion\\/assets\n"
     ]
    },
    {
     "name": "stdout",
     "output_type": "stream",
     "text": [
      "604/604 [==============================] - 14s 23ms/step - loss: 1.1457 - accuracy: 0.5300 - val_loss: 1.0833 - val_accuracy: 0.5563 - lr: 0.0010\n",
      "Epoch 5/100\n",
      "602/604 [============================>.] - ETA: 0s - loss: 1.0614 - accuracy: 0.5725"
     ]
    },
    {
     "name": "stderr",
     "output_type": "stream",
     "text": [
      "WARNING:absl:Found untraced functions such as _jit_compiled_convolution_op, _jit_compiled_convolution_op, _jit_compiled_convolution_op, _jit_compiled_convolution_op, _jit_compiled_convolution_op while saving (showing 5 of 5). These functions will not be directly callable after loading.\n"
     ]
    },
    {
     "name": "stdout",
     "output_type": "stream",
     "text": [
      "INFO:tensorflow:Assets written to: c://Projects/emotion_detect_project/best_model_5emotion\\/assets\n"
     ]
    },
    {
     "name": "stderr",
     "output_type": "stream",
     "text": [
      "INFO:tensorflow:Assets written to: c://Projects/emotion_detect_project/best_model_5emotion\\/assets\n"
     ]
    },
    {
     "name": "stdout",
     "output_type": "stream",
     "text": [
      "604/604 [==============================] - 14s 22ms/step - loss: 1.0615 - accuracy: 0.5725 - val_loss: 0.9931 - val_accuracy: 0.5993 - lr: 0.0010\n",
      "Epoch 6/100\n",
      "604/604 [==============================] - ETA: 0s - loss: 0.9990 - accuracy: 0.6046"
     ]
    },
    {
     "name": "stderr",
     "output_type": "stream",
     "text": [
      "WARNING:absl:Found untraced functions such as _jit_compiled_convolution_op, _jit_compiled_convolution_op, _jit_compiled_convolution_op, _jit_compiled_convolution_op, _jit_compiled_convolution_op while saving (showing 5 of 5). These functions will not be directly callable after loading.\n"
     ]
    },
    {
     "name": "stdout",
     "output_type": "stream",
     "text": [
      "INFO:tensorflow:Assets written to: c://Projects/emotion_detect_project/best_model_5emotion\\/assets\n"
     ]
    },
    {
     "name": "stderr",
     "output_type": "stream",
     "text": [
      "INFO:tensorflow:Assets written to: c://Projects/emotion_detect_project/best_model_5emotion\\/assets\n"
     ]
    },
    {
     "name": "stdout",
     "output_type": "stream",
     "text": [
      "604/604 [==============================] - 14s 23ms/step - loss: 0.9990 - accuracy: 0.6046 - val_loss: 0.9569 - val_accuracy: 0.6165 - lr: 0.0010\n",
      "Epoch 7/100\n",
      "602/604 [============================>.] - ETA: 0s - loss: 0.9452 - accuracy: 0.6257"
     ]
    },
    {
     "name": "stderr",
     "output_type": "stream",
     "text": [
      "WARNING:absl:Found untraced functions such as _jit_compiled_convolution_op, _jit_compiled_convolution_op, _jit_compiled_convolution_op, _jit_compiled_convolution_op, _jit_compiled_convolution_op while saving (showing 5 of 5). These functions will not be directly callable after loading.\n"
     ]
    },
    {
     "name": "stdout",
     "output_type": "stream",
     "text": [
      "INFO:tensorflow:Assets written to: c://Projects/emotion_detect_project/best_model_5emotion\\/assets\n"
     ]
    },
    {
     "name": "stderr",
     "output_type": "stream",
     "text": [
      "INFO:tensorflow:Assets written to: c://Projects/emotion_detect_project/best_model_5emotion\\/assets\n"
     ]
    },
    {
     "name": "stdout",
     "output_type": "stream",
     "text": [
      "604/604 [==============================] - 14s 22ms/step - loss: 0.9450 - accuracy: 0.6259 - val_loss: 0.9346 - val_accuracy: 0.6219 - lr: 0.0010\n",
      "Epoch 8/100\n",
      "603/604 [============================>.] - ETA: 0s - loss: 0.9050 - accuracy: 0.6496"
     ]
    },
    {
     "name": "stderr",
     "output_type": "stream",
     "text": [
      "WARNING:absl:Found untraced functions such as _jit_compiled_convolution_op, _jit_compiled_convolution_op, _jit_compiled_convolution_op, _jit_compiled_convolution_op, _jit_compiled_convolution_op while saving (showing 5 of 5). These functions will not be directly callable after loading.\n"
     ]
    },
    {
     "name": "stdout",
     "output_type": "stream",
     "text": [
      "INFO:tensorflow:Assets written to: c://Projects/emotion_detect_project/best_model_5emotion\\/assets\n"
     ]
    },
    {
     "name": "stderr",
     "output_type": "stream",
     "text": [
      "INFO:tensorflow:Assets written to: c://Projects/emotion_detect_project/best_model_5emotion\\/assets\n"
     ]
    },
    {
     "name": "stdout",
     "output_type": "stream",
     "text": [
      "604/604 [==============================] - 14s 23ms/step - loss: 0.9046 - accuracy: 0.6497 - val_loss: 0.9042 - val_accuracy: 0.6509 - lr: 0.0010\n",
      "Epoch 9/100\n",
      "602/604 [============================>.] - ETA: 0s - loss: 0.8702 - accuracy: 0.6595"
     ]
    },
    {
     "name": "stderr",
     "output_type": "stream",
     "text": [
      "WARNING:absl:Found untraced functions such as _jit_compiled_convolution_op, _jit_compiled_convolution_op, _jit_compiled_convolution_op, _jit_compiled_convolution_op, _jit_compiled_convolution_op while saving (showing 5 of 5). These functions will not be directly callable after loading.\n"
     ]
    },
    {
     "name": "stdout",
     "output_type": "stream",
     "text": [
      "INFO:tensorflow:Assets written to: c://Projects/emotion_detect_project/best_model_5emotion\\/assets\n"
     ]
    },
    {
     "name": "stderr",
     "output_type": "stream",
     "text": [
      "INFO:tensorflow:Assets written to: c://Projects/emotion_detect_project/best_model_5emotion\\/assets\n"
     ]
    },
    {
     "name": "stdout",
     "output_type": "stream",
     "text": [
      "604/604 [==============================] - 14s 22ms/step - loss: 0.8703 - accuracy: 0.6594 - val_loss: 0.8907 - val_accuracy: 0.6531 - lr: 0.0010\n",
      "Epoch 10/100\n",
      "604/604 [==============================] - ETA: 0s - loss: 0.8340 - accuracy: 0.6770"
     ]
    },
    {
     "name": "stderr",
     "output_type": "stream",
     "text": [
      "WARNING:absl:Found untraced functions such as _jit_compiled_convolution_op, _jit_compiled_convolution_op, _jit_compiled_convolution_op, _jit_compiled_convolution_op, _jit_compiled_convolution_op while saving (showing 5 of 5). These functions will not be directly callable after loading.\n"
     ]
    },
    {
     "name": "stdout",
     "output_type": "stream",
     "text": [
      "INFO:tensorflow:Assets written to: c://Projects/emotion_detect_project/best_model_5emotion\\/assets\n"
     ]
    },
    {
     "name": "stderr",
     "output_type": "stream",
     "text": [
      "INFO:tensorflow:Assets written to: c://Projects/emotion_detect_project/best_model_5emotion\\/assets\n"
     ]
    },
    {
     "name": "stdout",
     "output_type": "stream",
     "text": [
      "604/604 [==============================] - 14s 22ms/step - loss: 0.8340 - accuracy: 0.6770 - val_loss: 0.8667 - val_accuracy: 0.6627 - lr: 0.0010\n",
      "Epoch 11/100\n",
      "604/604 [==============================] - ETA: 0s - loss: 0.7955 - accuracy: 0.6858"
     ]
    },
    {
     "name": "stderr",
     "output_type": "stream",
     "text": [
      "WARNING:absl:Found untraced functions such as _jit_compiled_convolution_op, _jit_compiled_convolution_op, _jit_compiled_convolution_op, _jit_compiled_convolution_op, _jit_compiled_convolution_op while saving (showing 5 of 5). These functions will not be directly callable after loading.\n"
     ]
    },
    {
     "name": "stdout",
     "output_type": "stream",
     "text": [
      "INFO:tensorflow:Assets written to: c://Projects/emotion_detect_project/best_model_5emotion\\/assets\n"
     ]
    },
    {
     "name": "stderr",
     "output_type": "stream",
     "text": [
      "INFO:tensorflow:Assets written to: c://Projects/emotion_detect_project/best_model_5emotion\\/assets\n"
     ]
    },
    {
     "name": "stdout",
     "output_type": "stream",
     "text": [
      "604/604 [==============================] - 14s 23ms/step - loss: 0.7955 - accuracy: 0.6858 - val_loss: 0.8744 - val_accuracy: 0.6641 - lr: 0.0010\n",
      "Epoch 12/100\n",
      "602/604 [============================>.] - ETA: 0s - loss: 0.7611 - accuracy: 0.7045"
     ]
    },
    {
     "name": "stderr",
     "output_type": "stream",
     "text": [
      "WARNING:absl:Found untraced functions such as _jit_compiled_convolution_op, _jit_compiled_convolution_op, _jit_compiled_convolution_op, _jit_compiled_convolution_op, _jit_compiled_convolution_op while saving (showing 5 of 5). These functions will not be directly callable after loading.\n"
     ]
    },
    {
     "name": "stdout",
     "output_type": "stream",
     "text": [
      "INFO:tensorflow:Assets written to: c://Projects/emotion_detect_project/best_model_5emotion\\/assets\n"
     ]
    },
    {
     "name": "stderr",
     "output_type": "stream",
     "text": [
      "INFO:tensorflow:Assets written to: c://Projects/emotion_detect_project/best_model_5emotion\\/assets\n"
     ]
    },
    {
     "name": "stdout",
     "output_type": "stream",
     "text": [
      "604/604 [==============================] - 14s 22ms/step - loss: 0.7609 - accuracy: 0.7046 - val_loss: 0.8686 - val_accuracy: 0.6678 - lr: 0.0010\n",
      "Epoch 13/100\n",
      "603/604 [============================>.] - ETA: 0s - loss: 0.7333 - accuracy: 0.7139"
     ]
    },
    {
     "name": "stderr",
     "output_type": "stream",
     "text": [
      "WARNING:absl:Found untraced functions such as _jit_compiled_convolution_op, _jit_compiled_convolution_op, _jit_compiled_convolution_op, _jit_compiled_convolution_op, _jit_compiled_convolution_op while saving (showing 5 of 5). These functions will not be directly callable after loading.\n"
     ]
    },
    {
     "name": "stdout",
     "output_type": "stream",
     "text": [
      "INFO:tensorflow:Assets written to: c://Projects/emotion_detect_project/best_model_5emotion\\/assets\n"
     ]
    },
    {
     "name": "stderr",
     "output_type": "stream",
     "text": [
      "INFO:tensorflow:Assets written to: c://Projects/emotion_detect_project/best_model_5emotion\\/assets\n"
     ]
    },
    {
     "name": "stdout",
     "output_type": "stream",
     "text": [
      "604/604 [==============================] - 14s 23ms/step - loss: 0.7336 - accuracy: 0.7138 - val_loss: 0.8639 - val_accuracy: 0.6701 - lr: 0.0010\n",
      "Epoch 14/100\n",
      "604/604 [==============================] - ETA: 0s - loss: 0.6957 - accuracy: 0.7318"
     ]
    },
    {
     "name": "stderr",
     "output_type": "stream",
     "text": [
      "WARNING:absl:Found untraced functions such as _jit_compiled_convolution_op, _jit_compiled_convolution_op, _jit_compiled_convolution_op, _jit_compiled_convolution_op, _jit_compiled_convolution_op while saving (showing 5 of 5). These functions will not be directly callable after loading.\n"
     ]
    },
    {
     "name": "stdout",
     "output_type": "stream",
     "text": [
      "INFO:tensorflow:Assets written to: c://Projects/emotion_detect_project/best_model_5emotion\\/assets\n"
     ]
    },
    {
     "name": "stderr",
     "output_type": "stream",
     "text": [
      "INFO:tensorflow:Assets written to: c://Projects/emotion_detect_project/best_model_5emotion\\/assets\n"
     ]
    },
    {
     "name": "stdout",
     "output_type": "stream",
     "text": [
      "604/604 [==============================] - 14s 23ms/step - loss: 0.6957 - accuracy: 0.7318 - val_loss: 0.8841 - val_accuracy: 0.6726 - lr: 0.0010\n",
      "Epoch 15/100\n",
      "603/604 [============================>.] - ETA: 0s - loss: 0.6726 - accuracy: 0.7408"
     ]
    },
    {
     "name": "stderr",
     "output_type": "stream",
     "text": [
      "WARNING:absl:Found untraced functions such as _jit_compiled_convolution_op, _jit_compiled_convolution_op, _jit_compiled_convolution_op, _jit_compiled_convolution_op, _jit_compiled_convolution_op while saving (showing 5 of 5). These functions will not be directly callable after loading.\n"
     ]
    },
    {
     "name": "stdout",
     "output_type": "stream",
     "text": [
      "INFO:tensorflow:Assets written to: c://Projects/emotion_detect_project/best_model_5emotion\\/assets\n"
     ]
    },
    {
     "name": "stderr",
     "output_type": "stream",
     "text": [
      "INFO:tensorflow:Assets written to: c://Projects/emotion_detect_project/best_model_5emotion\\/assets\n"
     ]
    },
    {
     "name": "stdout",
     "output_type": "stream",
     "text": [
      "604/604 [==============================] - 14s 23ms/step - loss: 0.6724 - accuracy: 0.7409 - val_loss: 0.8678 - val_accuracy: 0.6722 - lr: 0.0010\n",
      "Epoch 16/100\n",
      "604/604 [==============================] - ETA: 0s - loss: 0.6503 - accuracy: 0.7499"
     ]
    },
    {
     "name": "stderr",
     "output_type": "stream",
     "text": [
      "WARNING:absl:Found untraced functions such as _jit_compiled_convolution_op, _jit_compiled_convolution_op, _jit_compiled_convolution_op, _jit_compiled_convolution_op, _jit_compiled_convolution_op while saving (showing 5 of 5). These functions will not be directly callable after loading.\n"
     ]
    },
    {
     "name": "stdout",
     "output_type": "stream",
     "text": [
      "INFO:tensorflow:Assets written to: c://Projects/emotion_detect_project/best_model_5emotion\\/assets\n"
     ]
    },
    {
     "name": "stderr",
     "output_type": "stream",
     "text": [
      "INFO:tensorflow:Assets written to: c://Projects/emotion_detect_project/best_model_5emotion\\/assets\n"
     ]
    },
    {
     "name": "stdout",
     "output_type": "stream",
     "text": [
      "604/604 [==============================] - 14s 23ms/step - loss: 0.6503 - accuracy: 0.7499 - val_loss: 0.8618 - val_accuracy: 0.6755 - lr: 0.0010\n",
      "Epoch 17/100\n",
      "603/604 [============================>.] - ETA: 0s - loss: 0.6135 - accuracy: 0.7652"
     ]
    },
    {
     "name": "stderr",
     "output_type": "stream",
     "text": [
      "WARNING:absl:Found untraced functions such as _jit_compiled_convolution_op, _jit_compiled_convolution_op, _jit_compiled_convolution_op, _jit_compiled_convolution_op, _jit_compiled_convolution_op while saving (showing 5 of 5). These functions will not be directly callable after loading.\n"
     ]
    },
    {
     "name": "stdout",
     "output_type": "stream",
     "text": [
      "INFO:tensorflow:Assets written to: c://Projects/emotion_detect_project/best_model_5emotion\\/assets\n"
     ]
    },
    {
     "name": "stderr",
     "output_type": "stream",
     "text": [
      "INFO:tensorflow:Assets written to: c://Projects/emotion_detect_project/best_model_5emotion\\/assets\n"
     ]
    },
    {
     "name": "stdout",
     "output_type": "stream",
     "text": [
      "604/604 [==============================] - 14s 23ms/step - loss: 0.6135 - accuracy: 0.7652 - val_loss: 0.8644 - val_accuracy: 0.6819 - lr: 0.0010\n",
      "Epoch 18/100\n",
      "601/604 [============================>.] - ETA: 0s - loss: 0.5894 - accuracy: 0.7756"
     ]
    },
    {
     "name": "stderr",
     "output_type": "stream",
     "text": [
      "WARNING:absl:Found untraced functions such as _jit_compiled_convolution_op, _jit_compiled_convolution_op, _jit_compiled_convolution_op, _jit_compiled_convolution_op, _jit_compiled_convolution_op while saving (showing 5 of 5). These functions will not be directly callable after loading.\n"
     ]
    },
    {
     "name": "stdout",
     "output_type": "stream",
     "text": [
      "INFO:tensorflow:Assets written to: c://Projects/emotion_detect_project/best_model_5emotion\\/assets\n"
     ]
    },
    {
     "name": "stderr",
     "output_type": "stream",
     "text": [
      "INFO:tensorflow:Assets written to: c://Projects/emotion_detect_project/best_model_5emotion\\/assets\n"
     ]
    },
    {
     "name": "stdout",
     "output_type": "stream",
     "text": [
      "604/604 [==============================] - 14s 23ms/step - loss: 0.5898 - accuracy: 0.7752 - val_loss: 0.8636 - val_accuracy: 0.6761 - lr: 0.0010\n",
      "Epoch 19/100\n",
      "602/604 [============================>.] - ETA: 0s - loss: 0.5578 - accuracy: 0.7854"
     ]
    },
    {
     "name": "stderr",
     "output_type": "stream",
     "text": [
      "WARNING:absl:Found untraced functions such as _jit_compiled_convolution_op, _jit_compiled_convolution_op, _jit_compiled_convolution_op, _jit_compiled_convolution_op, _jit_compiled_convolution_op while saving (showing 5 of 5). These functions will not be directly callable after loading.\n"
     ]
    },
    {
     "name": "stdout",
     "output_type": "stream",
     "text": [
      "INFO:tensorflow:Assets written to: c://Projects/emotion_detect_project/best_model_5emotion\\/assets\n"
     ]
    },
    {
     "name": "stderr",
     "output_type": "stream",
     "text": [
      "INFO:tensorflow:Assets written to: c://Projects/emotion_detect_project/best_model_5emotion\\/assets\n"
     ]
    },
    {
     "name": "stdout",
     "output_type": "stream",
     "text": [
      "604/604 [==============================] - 13s 22ms/step - loss: 0.5583 - accuracy: 0.7852 - val_loss: 0.8994 - val_accuracy: 0.6809 - lr: 0.0010\n",
      "Epoch 20/100\n",
      "602/604 [============================>.] - ETA: 0s - loss: 0.5354 - accuracy: 0.7959"
     ]
    },
    {
     "name": "stderr",
     "output_type": "stream",
     "text": [
      "WARNING:absl:Found untraced functions such as _jit_compiled_convolution_op, _jit_compiled_convolution_op, _jit_compiled_convolution_op, _jit_compiled_convolution_op, _jit_compiled_convolution_op while saving (showing 5 of 5). These functions will not be directly callable after loading.\n"
     ]
    },
    {
     "name": "stdout",
     "output_type": "stream",
     "text": [
      "INFO:tensorflow:Assets written to: c://Projects/emotion_detect_project/best_model_5emotion\\/assets\n"
     ]
    },
    {
     "name": "stderr",
     "output_type": "stream",
     "text": [
      "INFO:tensorflow:Assets written to: c://Projects/emotion_detect_project/best_model_5emotion\\/assets\n"
     ]
    },
    {
     "name": "stdout",
     "output_type": "stream",
     "text": [
      "604/604 [==============================] - 14s 23ms/step - loss: 0.5352 - accuracy: 0.7959 - val_loss: 0.9316 - val_accuracy: 0.6823 - lr: 0.0010\n",
      "Epoch 21/100\n",
      "602/604 [============================>.] - ETA: 0s - loss: 0.5067 - accuracy: 0.8078"
     ]
    },
    {
     "name": "stderr",
     "output_type": "stream",
     "text": [
      "WARNING:absl:Found untraced functions such as _jit_compiled_convolution_op, _jit_compiled_convolution_op, _jit_compiled_convolution_op, _jit_compiled_convolution_op, _jit_compiled_convolution_op while saving (showing 5 of 5). These functions will not be directly callable after loading.\n"
     ]
    },
    {
     "name": "stdout",
     "output_type": "stream",
     "text": [
      "INFO:tensorflow:Assets written to: c://Projects/emotion_detect_project/best_model_5emotion\\/assets\n"
     ]
    },
    {
     "name": "stderr",
     "output_type": "stream",
     "text": [
      "INFO:tensorflow:Assets written to: c://Projects/emotion_detect_project/best_model_5emotion\\/assets\n"
     ]
    },
    {
     "name": "stdout",
     "output_type": "stream",
     "text": [
      "604/604 [==============================] - 14s 23ms/step - loss: 0.5071 - accuracy: 0.8078 - val_loss: 0.9172 - val_accuracy: 0.6807 - lr: 0.0010\n",
      "Epoch 22/100\n",
      "602/604 [============================>.] - ETA: 0s - loss: 0.4922 - accuracy: 0.8128"
     ]
    },
    {
     "name": "stderr",
     "output_type": "stream",
     "text": [
      "WARNING:absl:Found untraced functions such as _jit_compiled_convolution_op, _jit_compiled_convolution_op, _jit_compiled_convolution_op, _jit_compiled_convolution_op, _jit_compiled_convolution_op while saving (showing 5 of 5). These functions will not be directly callable after loading.\n"
     ]
    },
    {
     "name": "stdout",
     "output_type": "stream",
     "text": [
      "INFO:tensorflow:Assets written to: c://Projects/emotion_detect_project/best_model_5emotion\\/assets\n"
     ]
    },
    {
     "name": "stderr",
     "output_type": "stream",
     "text": [
      "INFO:tensorflow:Assets written to: c://Projects/emotion_detect_project/best_model_5emotion\\/assets\n"
     ]
    },
    {
     "name": "stdout",
     "output_type": "stream",
     "text": [
      "604/604 [==============================] - 14s 23ms/step - loss: 0.4918 - accuracy: 0.8130 - val_loss: 0.9029 - val_accuracy: 0.6869 - lr: 0.0010\n",
      "Epoch 23/100\n",
      "602/604 [============================>.] - ETA: 0s - loss: 0.4746 - accuracy: 0.8208"
     ]
    },
    {
     "name": "stderr",
     "output_type": "stream",
     "text": [
      "WARNING:absl:Found untraced functions such as _jit_compiled_convolution_op, _jit_compiled_convolution_op, _jit_compiled_convolution_op, _jit_compiled_convolution_op, _jit_compiled_convolution_op while saving (showing 5 of 5). These functions will not be directly callable after loading.\n"
     ]
    },
    {
     "name": "stdout",
     "output_type": "stream",
     "text": [
      "INFO:tensorflow:Assets written to: c://Projects/emotion_detect_project/best_model_5emotion\\/assets\n"
     ]
    },
    {
     "name": "stderr",
     "output_type": "stream",
     "text": [
      "INFO:tensorflow:Assets written to: c://Projects/emotion_detect_project/best_model_5emotion\\/assets\n"
     ]
    },
    {
     "name": "stdout",
     "output_type": "stream",
     "text": [
      "604/604 [==============================] - 14s 23ms/step - loss: 0.4748 - accuracy: 0.8208 - val_loss: 0.9203 - val_accuracy: 0.6916 - lr: 0.0010\n",
      "Epoch 24/100\n",
      "604/604 [==============================] - ETA: 0s - loss: 0.4462 - accuracy: 0.8330"
     ]
    },
    {
     "name": "stderr",
     "output_type": "stream",
     "text": [
      "WARNING:absl:Found untraced functions such as _jit_compiled_convolution_op, _jit_compiled_convolution_op, _jit_compiled_convolution_op, _jit_compiled_convolution_op, _jit_compiled_convolution_op while saving (showing 5 of 5). These functions will not be directly callable after loading.\n"
     ]
    },
    {
     "name": "stdout",
     "output_type": "stream",
     "text": [
      "INFO:tensorflow:Assets written to: c://Projects/emotion_detect_project/best_model_5emotion\\/assets\n"
     ]
    },
    {
     "name": "stderr",
     "output_type": "stream",
     "text": [
      "INFO:tensorflow:Assets written to: c://Projects/emotion_detect_project/best_model_5emotion\\/assets\n"
     ]
    },
    {
     "name": "stdout",
     "output_type": "stream",
     "text": [
      "604/604 [==============================] - 14s 23ms/step - loss: 0.4462 - accuracy: 0.8330 - val_loss: 0.9423 - val_accuracy: 0.6885 - lr: 0.0010\n",
      "Epoch 25/100\n",
      "601/604 [============================>.] - ETA: 0s - loss: 0.4253 - accuracy: 0.8425"
     ]
    },
    {
     "name": "stderr",
     "output_type": "stream",
     "text": [
      "WARNING:absl:Found untraced functions such as _jit_compiled_convolution_op, _jit_compiled_convolution_op, _jit_compiled_convolution_op, _jit_compiled_convolution_op, _jit_compiled_convolution_op while saving (showing 5 of 5). These functions will not be directly callable after loading.\n"
     ]
    },
    {
     "name": "stdout",
     "output_type": "stream",
     "text": [
      "INFO:tensorflow:Assets written to: c://Projects/emotion_detect_project/best_model_5emotion\\/assets\n"
     ]
    },
    {
     "name": "stderr",
     "output_type": "stream",
     "text": [
      "INFO:tensorflow:Assets written to: c://Projects/emotion_detect_project/best_model_5emotion\\/assets\n"
     ]
    },
    {
     "name": "stdout",
     "output_type": "stream",
     "text": [
      "604/604 [==============================] - 14s 22ms/step - loss: 0.4248 - accuracy: 0.8428 - val_loss: 0.9648 - val_accuracy: 0.6858 - lr: 0.0010\n",
      "Epoch 26/100\n",
      "601/604 [============================>.] - ETA: 0s - loss: 0.4095 - accuracy: 0.8446"
     ]
    },
    {
     "name": "stderr",
     "output_type": "stream",
     "text": [
      "WARNING:absl:Found untraced functions such as _jit_compiled_convolution_op, _jit_compiled_convolution_op, _jit_compiled_convolution_op, _jit_compiled_convolution_op, _jit_compiled_convolution_op while saving (showing 5 of 5). These functions will not be directly callable after loading.\n"
     ]
    },
    {
     "name": "stdout",
     "output_type": "stream",
     "text": [
      "INFO:tensorflow:Assets written to: c://Projects/emotion_detect_project/best_model_5emotion\\/assets\n"
     ]
    },
    {
     "name": "stderr",
     "output_type": "stream",
     "text": [
      "INFO:tensorflow:Assets written to: c://Projects/emotion_detect_project/best_model_5emotion\\/assets\n"
     ]
    },
    {
     "name": "stdout",
     "output_type": "stream",
     "text": [
      "604/604 [==============================] - 14s 23ms/step - loss: 0.4088 - accuracy: 0.8449 - val_loss: 0.9774 - val_accuracy: 0.6881 - lr: 0.0010\n",
      "Epoch 27/100\n",
      "604/604 [==============================] - ETA: 0s - loss: 0.3501 - accuracy: 0.8704"
     ]
    },
    {
     "name": "stderr",
     "output_type": "stream",
     "text": [
      "WARNING:absl:Found untraced functions such as _jit_compiled_convolution_op, _jit_compiled_convolution_op, _jit_compiled_convolution_op, _jit_compiled_convolution_op, _jit_compiled_convolution_op while saving (showing 5 of 5). These functions will not be directly callable after loading.\n"
     ]
    },
    {
     "name": "stdout",
     "output_type": "stream",
     "text": [
      "INFO:tensorflow:Assets written to: c://Projects/emotion_detect_project/best_model_5emotion\\/assets\n"
     ]
    },
    {
     "name": "stderr",
     "output_type": "stream",
     "text": [
      "INFO:tensorflow:Assets written to: c://Projects/emotion_detect_project/best_model_5emotion\\/assets\n"
     ]
    },
    {
     "name": "stdout",
     "output_type": "stream",
     "text": [
      "604/604 [==============================] - 14s 23ms/step - loss: 0.3501 - accuracy: 0.8704 - val_loss: 0.9946 - val_accuracy: 0.6908 - lr: 1.0000e-04\n",
      "Epoch 28/100\n",
      "603/604 [============================>.] - ETA: 0s - loss: 0.3363 - accuracy: 0.8731"
     ]
    },
    {
     "name": "stderr",
     "output_type": "stream",
     "text": [
      "WARNING:absl:Found untraced functions such as _jit_compiled_convolution_op, _jit_compiled_convolution_op, _jit_compiled_convolution_op, _jit_compiled_convolution_op, _jit_compiled_convolution_op while saving (showing 5 of 5). These functions will not be directly callable after loading.\n"
     ]
    },
    {
     "name": "stdout",
     "output_type": "stream",
     "text": [
      "INFO:tensorflow:Assets written to: c://Projects/emotion_detect_project/best_model_5emotion\\/assets\n"
     ]
    },
    {
     "name": "stderr",
     "output_type": "stream",
     "text": [
      "INFO:tensorflow:Assets written to: c://Projects/emotion_detect_project/best_model_5emotion\\/assets\n"
     ]
    },
    {
     "name": "stdout",
     "output_type": "stream",
     "text": [
      "604/604 [==============================] - 13s 22ms/step - loss: 0.3361 - accuracy: 0.8732 - val_loss: 0.9945 - val_accuracy: 0.6898 - lr: 1.0000e-04\n",
      "Epoch 29/100\n",
      "602/604 [============================>.] - ETA: 0s - loss: 0.3290 - accuracy: 0.8774"
     ]
    },
    {
     "name": "stderr",
     "output_type": "stream",
     "text": [
      "WARNING:absl:Found untraced functions such as _jit_compiled_convolution_op, _jit_compiled_convolution_op, _jit_compiled_convolution_op, _jit_compiled_convolution_op, _jit_compiled_convolution_op while saving (showing 5 of 5). These functions will not be directly callable after loading.\n"
     ]
    },
    {
     "name": "stdout",
     "output_type": "stream",
     "text": [
      "INFO:tensorflow:Assets written to: c://Projects/emotion_detect_project/best_model_5emotion\\/assets\n"
     ]
    },
    {
     "name": "stderr",
     "output_type": "stream",
     "text": [
      "INFO:tensorflow:Assets written to: c://Projects/emotion_detect_project/best_model_5emotion\\/assets\n"
     ]
    },
    {
     "name": "stdout",
     "output_type": "stream",
     "text": [
      "604/604 [==============================] - 13s 22ms/step - loss: 0.3290 - accuracy: 0.8774 - val_loss: 0.9987 - val_accuracy: 0.6921 - lr: 1.0000e-04\n",
      "Epoch 30/100\n",
      "604/604 [==============================] - ETA: 0s - loss: 0.3227 - accuracy: 0.8765"
     ]
    },
    {
     "name": "stderr",
     "output_type": "stream",
     "text": [
      "WARNING:absl:Found untraced functions such as _jit_compiled_convolution_op, _jit_compiled_convolution_op, _jit_compiled_convolution_op, _jit_compiled_convolution_op, _jit_compiled_convolution_op while saving (showing 5 of 5). These functions will not be directly callable after loading.\n"
     ]
    },
    {
     "name": "stdout",
     "output_type": "stream",
     "text": [
      "INFO:tensorflow:Assets written to: c://Projects/emotion_detect_project/best_model_5emotion\\/assets\n"
     ]
    },
    {
     "name": "stderr",
     "output_type": "stream",
     "text": [
      "INFO:tensorflow:Assets written to: c://Projects/emotion_detect_project/best_model_5emotion\\/assets\n"
     ]
    },
    {
     "name": "stdout",
     "output_type": "stream",
     "text": [
      "604/604 [==============================] - 13s 22ms/step - loss: 0.3227 - accuracy: 0.8765 - val_loss: 1.0258 - val_accuracy: 0.6918 - lr: 1.0000e-04\n",
      "Epoch 31/100\n",
      "602/604 [============================>.] - ETA: 0s - loss: 0.3191 - accuracy: 0.8807"
     ]
    },
    {
     "name": "stderr",
     "output_type": "stream",
     "text": [
      "WARNING:absl:Found untraced functions such as _jit_compiled_convolution_op, _jit_compiled_convolution_op, _jit_compiled_convolution_op, _jit_compiled_convolution_op, _jit_compiled_convolution_op while saving (showing 5 of 5). These functions will not be directly callable after loading.\n"
     ]
    },
    {
     "name": "stdout",
     "output_type": "stream",
     "text": [
      "INFO:tensorflow:Assets written to: c://Projects/emotion_detect_project/best_model_5emotion\\/assets\n"
     ]
    },
    {
     "name": "stderr",
     "output_type": "stream",
     "text": [
      "INFO:tensorflow:Assets written to: c://Projects/emotion_detect_project/best_model_5emotion\\/assets\n"
     ]
    },
    {
     "name": "stdout",
     "output_type": "stream",
     "text": [
      "604/604 [==============================] - 13s 22ms/step - loss: 0.3188 - accuracy: 0.8809 - val_loss: 1.0200 - val_accuracy: 0.6929 - lr: 1.0000e-04\n",
      "Epoch 32/100\n",
      "604/604 [==============================] - ETA: 0s - loss: 0.3100 - accuracy: 0.8851"
     ]
    },
    {
     "name": "stderr",
     "output_type": "stream",
     "text": [
      "WARNING:absl:Found untraced functions such as _jit_compiled_convolution_op, _jit_compiled_convolution_op, _jit_compiled_convolution_op, _jit_compiled_convolution_op, _jit_compiled_convolution_op while saving (showing 5 of 5). These functions will not be directly callable after loading.\n"
     ]
    },
    {
     "name": "stdout",
     "output_type": "stream",
     "text": [
      "INFO:tensorflow:Assets written to: c://Projects/emotion_detect_project/best_model_5emotion\\/assets\n"
     ]
    },
    {
     "name": "stderr",
     "output_type": "stream",
     "text": [
      "INFO:tensorflow:Assets written to: c://Projects/emotion_detect_project/best_model_5emotion\\/assets\n"
     ]
    },
    {
     "name": "stdout",
     "output_type": "stream",
     "text": [
      "604/604 [==============================] - 14s 22ms/step - loss: 0.3100 - accuracy: 0.8851 - val_loss: 1.0214 - val_accuracy: 0.6902 - lr: 1.0000e-04\n",
      "Epoch 33/100\n",
      "603/604 [============================>.] - ETA: 0s - loss: 0.3123 - accuracy: 0.8836"
     ]
    },
    {
     "name": "stderr",
     "output_type": "stream",
     "text": [
      "WARNING:absl:Found untraced functions such as _jit_compiled_convolution_op, _jit_compiled_convolution_op, _jit_compiled_convolution_op, _jit_compiled_convolution_op, _jit_compiled_convolution_op while saving (showing 5 of 5). These functions will not be directly callable after loading.\n"
     ]
    },
    {
     "name": "stdout",
     "output_type": "stream",
     "text": [
      "INFO:tensorflow:Assets written to: c://Projects/emotion_detect_project/best_model_5emotion\\/assets\n"
     ]
    },
    {
     "name": "stderr",
     "output_type": "stream",
     "text": [
      "INFO:tensorflow:Assets written to: c://Projects/emotion_detect_project/best_model_5emotion\\/assets\n"
     ]
    },
    {
     "name": "stdout",
     "output_type": "stream",
     "text": [
      "604/604 [==============================] - 14s 23ms/step - loss: 0.3119 - accuracy: 0.8838 - val_loss: 1.0272 - val_accuracy: 0.6933 - lr: 1.0000e-04\n",
      "Epoch 34/100\n",
      "601/604 [============================>.] - ETA: 0s - loss: 0.2976 - accuracy: 0.8864"
     ]
    },
    {
     "name": "stderr",
     "output_type": "stream",
     "text": [
      "WARNING:absl:Found untraced functions such as _jit_compiled_convolution_op, _jit_compiled_convolution_op, _jit_compiled_convolution_op, _jit_compiled_convolution_op, _jit_compiled_convolution_op while saving (showing 5 of 5). These functions will not be directly callable after loading.\n"
     ]
    },
    {
     "name": "stdout",
     "output_type": "stream",
     "text": [
      "INFO:tensorflow:Assets written to: c://Projects/emotion_detect_project/best_model_5emotion\\/assets\n"
     ]
    },
    {
     "name": "stderr",
     "output_type": "stream",
     "text": [
      "INFO:tensorflow:Assets written to: c://Projects/emotion_detect_project/best_model_5emotion\\/assets\n"
     ]
    },
    {
     "name": "stdout",
     "output_type": "stream",
     "text": [
      "604/604 [==============================] - 14s 22ms/step - loss: 0.2976 - accuracy: 0.8863 - val_loss: 1.0453 - val_accuracy: 0.6921 - lr: 1.0000e-04\n",
      "Epoch 35/100\n",
      "604/604 [==============================] - ETA: 0s - loss: 0.2979 - accuracy: 0.8895"
     ]
    },
    {
     "name": "stderr",
     "output_type": "stream",
     "text": [
      "WARNING:absl:Found untraced functions such as _jit_compiled_convolution_op, _jit_compiled_convolution_op, _jit_compiled_convolution_op, _jit_compiled_convolution_op, _jit_compiled_convolution_op while saving (showing 5 of 5). These functions will not be directly callable after loading.\n"
     ]
    },
    {
     "name": "stdout",
     "output_type": "stream",
     "text": [
      "INFO:tensorflow:Assets written to: c://Projects/emotion_detect_project/best_model_5emotion\\/assets\n"
     ]
    },
    {
     "name": "stderr",
     "output_type": "stream",
     "text": [
      "INFO:tensorflow:Assets written to: c://Projects/emotion_detect_project/best_model_5emotion\\/assets\n"
     ]
    },
    {
     "name": "stdout",
     "output_type": "stream",
     "text": [
      "604/604 [==============================] - 14s 22ms/step - loss: 0.2979 - accuracy: 0.8895 - val_loss: 1.0521 - val_accuracy: 0.6947 - lr: 1.0000e-04\n",
      "Epoch 36/100\n",
      "604/604 [==============================] - ETA: 0s - loss: 0.2883 - accuracy: 0.8898"
     ]
    },
    {
     "name": "stderr",
     "output_type": "stream",
     "text": [
      "WARNING:absl:Found untraced functions such as _jit_compiled_convolution_op, _jit_compiled_convolution_op, _jit_compiled_convolution_op, _jit_compiled_convolution_op, _jit_compiled_convolution_op while saving (showing 5 of 5). These functions will not be directly callable after loading.\n"
     ]
    },
    {
     "name": "stdout",
     "output_type": "stream",
     "text": [
      "INFO:tensorflow:Assets written to: c://Projects/emotion_detect_project/best_model_5emotion\\/assets\n"
     ]
    },
    {
     "name": "stderr",
     "output_type": "stream",
     "text": [
      "INFO:tensorflow:Assets written to: c://Projects/emotion_detect_project/best_model_5emotion\\/assets\n"
     ]
    },
    {
     "name": "stdout",
     "output_type": "stream",
     "text": [
      "604/604 [==============================] - 14s 22ms/step - loss: 0.2883 - accuracy: 0.8898 - val_loss: 1.0607 - val_accuracy: 0.6929 - lr: 1.0000e-04\n",
      "Epoch 37/100\n",
      "604/604 [==============================] - ETA: 0s - loss: 0.2966 - accuracy: 0.8893"
     ]
    },
    {
     "name": "stderr",
     "output_type": "stream",
     "text": [
      "WARNING:absl:Found untraced functions such as _jit_compiled_convolution_op, _jit_compiled_convolution_op, _jit_compiled_convolution_op, _jit_compiled_convolution_op, _jit_compiled_convolution_op while saving (showing 5 of 5). These functions will not be directly callable after loading.\n"
     ]
    },
    {
     "name": "stdout",
     "output_type": "stream",
     "text": [
      "INFO:tensorflow:Assets written to: c://Projects/emotion_detect_project/best_model_5emotion\\/assets\n"
     ]
    },
    {
     "name": "stderr",
     "output_type": "stream",
     "text": [
      "INFO:tensorflow:Assets written to: c://Projects/emotion_detect_project/best_model_5emotion\\/assets\n"
     ]
    },
    {
     "name": "stdout",
     "output_type": "stream",
     "text": [
      "604/604 [==============================] - 13s 22ms/step - loss: 0.2966 - accuracy: 0.8893 - val_loss: 1.0558 - val_accuracy: 0.6931 - lr: 1.0000e-05\n",
      "Epoch 38/100\n",
      "604/604 [==============================] - ETA: 0s - loss: 0.2872 - accuracy: 0.8928"
     ]
    },
    {
     "name": "stderr",
     "output_type": "stream",
     "text": [
      "WARNING:absl:Found untraced functions such as _jit_compiled_convolution_op, _jit_compiled_convolution_op, _jit_compiled_convolution_op, _jit_compiled_convolution_op, _jit_compiled_convolution_op while saving (showing 5 of 5). These functions will not be directly callable after loading.\n"
     ]
    },
    {
     "name": "stdout",
     "output_type": "stream",
     "text": [
      "INFO:tensorflow:Assets written to: c://Projects/emotion_detect_project/best_model_5emotion\\/assets\n"
     ]
    },
    {
     "name": "stderr",
     "output_type": "stream",
     "text": [
      "INFO:tensorflow:Assets written to: c://Projects/emotion_detect_project/best_model_5emotion\\/assets\n"
     ]
    },
    {
     "name": "stdout",
     "output_type": "stream",
     "text": [
      "604/604 [==============================] - 14s 22ms/step - loss: 0.2872 - accuracy: 0.8928 - val_loss: 1.0577 - val_accuracy: 0.6945 - lr: 1.0000e-05\n",
      "Epoch 39/100\n",
      "604/604 [==============================] - ETA: 0s - loss: 0.2917 - accuracy: 0.8914"
     ]
    },
    {
     "name": "stderr",
     "output_type": "stream",
     "text": [
      "WARNING:absl:Found untraced functions such as _jit_compiled_convolution_op, _jit_compiled_convolution_op, _jit_compiled_convolution_op, _jit_compiled_convolution_op, _jit_compiled_convolution_op while saving (showing 5 of 5). These functions will not be directly callable after loading.\n"
     ]
    },
    {
     "name": "stdout",
     "output_type": "stream",
     "text": [
      "INFO:tensorflow:Assets written to: c://Projects/emotion_detect_project/best_model_5emotion\\/assets\n"
     ]
    },
    {
     "name": "stderr",
     "output_type": "stream",
     "text": [
      "INFO:tensorflow:Assets written to: c://Projects/emotion_detect_project/best_model_5emotion\\/assets\n"
     ]
    },
    {
     "name": "stdout",
     "output_type": "stream",
     "text": [
      "604/604 [==============================] - 14s 23ms/step - loss: 0.2917 - accuracy: 0.8914 - val_loss: 1.0541 - val_accuracy: 0.6954 - lr: 1.0000e-05\n",
      "Epoch 40/100\n",
      "601/604 [============================>.] - ETA: 0s - loss: 0.2976 - accuracy: 0.8886"
     ]
    },
    {
     "name": "stderr",
     "output_type": "stream",
     "text": [
      "WARNING:absl:Found untraced functions such as _jit_compiled_convolution_op, _jit_compiled_convolution_op, _jit_compiled_convolution_op, _jit_compiled_convolution_op, _jit_compiled_convolution_op while saving (showing 5 of 5). These functions will not be directly callable after loading.\n"
     ]
    },
    {
     "name": "stdout",
     "output_type": "stream",
     "text": [
      "INFO:tensorflow:Assets written to: c://Projects/emotion_detect_project/best_model_5emotion\\/assets\n"
     ]
    },
    {
     "name": "stderr",
     "output_type": "stream",
     "text": [
      "INFO:tensorflow:Assets written to: c://Projects/emotion_detect_project/best_model_5emotion\\/assets\n"
     ]
    },
    {
     "name": "stdout",
     "output_type": "stream",
     "text": [
      "604/604 [==============================] - 13s 22ms/step - loss: 0.2976 - accuracy: 0.8886 - val_loss: 1.0493 - val_accuracy: 0.6964 - lr: 1.0000e-05\n",
      "Epoch 41/100\n",
      "601/604 [============================>.] - ETA: 0s - loss: 0.2961 - accuracy: 0.8854"
     ]
    },
    {
     "name": "stderr",
     "output_type": "stream",
     "text": [
      "WARNING:absl:Found untraced functions such as _jit_compiled_convolution_op, _jit_compiled_convolution_op, _jit_compiled_convolution_op, _jit_compiled_convolution_op, _jit_compiled_convolution_op while saving (showing 5 of 5). These functions will not be directly callable after loading.\n"
     ]
    },
    {
     "name": "stdout",
     "output_type": "stream",
     "text": [
      "INFO:tensorflow:Assets written to: c://Projects/emotion_detect_project/best_model_5emotion\\/assets\n"
     ]
    },
    {
     "name": "stderr",
     "output_type": "stream",
     "text": [
      "INFO:tensorflow:Assets written to: c://Projects/emotion_detect_project/best_model_5emotion\\/assets\n"
     ]
    },
    {
     "name": "stdout",
     "output_type": "stream",
     "text": [
      "604/604 [==============================] - 14s 23ms/step - loss: 0.2963 - accuracy: 0.8854 - val_loss: 1.0496 - val_accuracy: 0.6962 - lr: 1.0000e-05\n",
      "Epoch 42/100\n",
      "601/604 [============================>.] - ETA: 0s - loss: 0.2963 - accuracy: 0.8885"
     ]
    },
    {
     "name": "stderr",
     "output_type": "stream",
     "text": [
      "WARNING:absl:Found untraced functions such as _jit_compiled_convolution_op, _jit_compiled_convolution_op, _jit_compiled_convolution_op, _jit_compiled_convolution_op, _jit_compiled_convolution_op while saving (showing 5 of 5). These functions will not be directly callable after loading.\n"
     ]
    },
    {
     "name": "stdout",
     "output_type": "stream",
     "text": [
      "INFO:tensorflow:Assets written to: c://Projects/emotion_detect_project/best_model_5emotion\\/assets\n"
     ]
    },
    {
     "name": "stderr",
     "output_type": "stream",
     "text": [
      "INFO:tensorflow:Assets written to: c://Projects/emotion_detect_project/best_model_5emotion\\/assets\n"
     ]
    },
    {
     "name": "stdout",
     "output_type": "stream",
     "text": [
      "604/604 [==============================] - 13s 22ms/step - loss: 0.2962 - accuracy: 0.8883 - val_loss: 1.0487 - val_accuracy: 0.6962 - lr: 1.0000e-05\n",
      "Epoch 43/100\n",
      "604/604 [==============================] - ETA: 0s - loss: 0.2922 - accuracy: 0.8912"
     ]
    },
    {
     "name": "stderr",
     "output_type": "stream",
     "text": [
      "WARNING:absl:Found untraced functions such as _jit_compiled_convolution_op, _jit_compiled_convolution_op, _jit_compiled_convolution_op, _jit_compiled_convolution_op, _jit_compiled_convolution_op while saving (showing 5 of 5). These functions will not be directly callable after loading.\n"
     ]
    },
    {
     "name": "stdout",
     "output_type": "stream",
     "text": [
      "INFO:tensorflow:Assets written to: c://Projects/emotion_detect_project/best_model_5emotion\\/assets\n"
     ]
    },
    {
     "name": "stderr",
     "output_type": "stream",
     "text": [
      "INFO:tensorflow:Assets written to: c://Projects/emotion_detect_project/best_model_5emotion\\/assets\n"
     ]
    },
    {
     "name": "stdout",
     "output_type": "stream",
     "text": [
      "604/604 [==============================] - 14s 22ms/step - loss: 0.2922 - accuracy: 0.8912 - val_loss: 1.0503 - val_accuracy: 0.6974 - lr: 1.0000e-05\n",
      "Epoch 44/100\n",
      "603/604 [============================>.] - ETA: 0s - loss: 0.2838 - accuracy: 0.8954"
     ]
    },
    {
     "name": "stderr",
     "output_type": "stream",
     "text": [
      "WARNING:absl:Found untraced functions such as _jit_compiled_convolution_op, _jit_compiled_convolution_op, _jit_compiled_convolution_op, _jit_compiled_convolution_op, _jit_compiled_convolution_op while saving (showing 5 of 5). These functions will not be directly callable after loading.\n"
     ]
    },
    {
     "name": "stdout",
     "output_type": "stream",
     "text": [
      "INFO:tensorflow:Assets written to: c://Projects/emotion_detect_project/best_model_5emotion\\/assets\n"
     ]
    },
    {
     "name": "stderr",
     "output_type": "stream",
     "text": [
      "INFO:tensorflow:Assets written to: c://Projects/emotion_detect_project/best_model_5emotion\\/assets\n"
     ]
    },
    {
     "name": "stdout",
     "output_type": "stream",
     "text": [
      "604/604 [==============================] - 14s 23ms/step - loss: 0.2839 - accuracy: 0.8954 - val_loss: 1.0513 - val_accuracy: 0.6968 - lr: 1.0000e-05\n",
      "Epoch 45/100\n",
      "604/604 [==============================] - ETA: 0s - loss: 0.2922 - accuracy: 0.8936"
     ]
    },
    {
     "name": "stderr",
     "output_type": "stream",
     "text": [
      "WARNING:absl:Found untraced functions such as _jit_compiled_convolution_op, _jit_compiled_convolution_op, _jit_compiled_convolution_op, _jit_compiled_convolution_op, _jit_compiled_convolution_op while saving (showing 5 of 5). These functions will not be directly callable after loading.\n"
     ]
    },
    {
     "name": "stdout",
     "output_type": "stream",
     "text": [
      "INFO:tensorflow:Assets written to: c://Projects/emotion_detect_project/best_model_5emotion\\/assets\n"
     ]
    },
    {
     "name": "stderr",
     "output_type": "stream",
     "text": [
      "INFO:tensorflow:Assets written to: c://Projects/emotion_detect_project/best_model_5emotion\\/assets\n"
     ]
    },
    {
     "name": "stdout",
     "output_type": "stream",
     "text": [
      "604/604 [==============================] - 13s 22ms/step - loss: 0.2922 - accuracy: 0.8936 - val_loss: 1.0501 - val_accuracy: 0.6952 - lr: 1.0000e-05\n",
      "Epoch 46/100\n",
      "603/604 [============================>.] - ETA: 0s - loss: 0.2920 - accuracy: 0.8886"
     ]
    },
    {
     "name": "stderr",
     "output_type": "stream",
     "text": [
      "WARNING:absl:Found untraced functions such as _jit_compiled_convolution_op, _jit_compiled_convolution_op, _jit_compiled_convolution_op, _jit_compiled_convolution_op, _jit_compiled_convolution_op while saving (showing 5 of 5). These functions will not be directly callable after loading.\n"
     ]
    },
    {
     "name": "stdout",
     "output_type": "stream",
     "text": [
      "INFO:tensorflow:Assets written to: c://Projects/emotion_detect_project/best_model_5emotion\\/assets\n"
     ]
    },
    {
     "name": "stderr",
     "output_type": "stream",
     "text": [
      "INFO:tensorflow:Assets written to: c://Projects/emotion_detect_project/best_model_5emotion\\/assets\n"
     ]
    },
    {
     "name": "stdout",
     "output_type": "stream",
     "text": [
      "604/604 [==============================] - 14s 22ms/step - loss: 0.2920 - accuracy: 0.8887 - val_loss: 1.0549 - val_accuracy: 0.6950 - lr: 1.0000e-05\n",
      "Epoch 47/100\n",
      "602/604 [============================>.] - ETA: 0s - loss: 0.2867 - accuracy: 0.8942"
     ]
    },
    {
     "name": "stderr",
     "output_type": "stream",
     "text": [
      "WARNING:absl:Found untraced functions such as _jit_compiled_convolution_op, _jit_compiled_convolution_op, _jit_compiled_convolution_op, _jit_compiled_convolution_op, _jit_compiled_convolution_op while saving (showing 5 of 5). These functions will not be directly callable after loading.\n"
     ]
    },
    {
     "name": "stdout",
     "output_type": "stream",
     "text": [
      "INFO:tensorflow:Assets written to: c://Projects/emotion_detect_project/best_model_5emotion\\/assets\n"
     ]
    },
    {
     "name": "stderr",
     "output_type": "stream",
     "text": [
      "INFO:tensorflow:Assets written to: c://Projects/emotion_detect_project/best_model_5emotion\\/assets\n"
     ]
    },
    {
     "name": "stdout",
     "output_type": "stream",
     "text": [
      "604/604 [==============================] - 14s 22ms/step - loss: 0.2871 - accuracy: 0.8940 - val_loss: 1.0560 - val_accuracy: 0.6952 - lr: 1.0000e-06\n",
      "Epoch 48/100\n",
      "601/604 [============================>.] - ETA: 0s - loss: 0.2877 - accuracy: 0.8913"
     ]
    },
    {
     "name": "stderr",
     "output_type": "stream",
     "text": [
      "WARNING:absl:Found untraced functions such as _jit_compiled_convolution_op, _jit_compiled_convolution_op, _jit_compiled_convolution_op, _jit_compiled_convolution_op, _jit_compiled_convolution_op while saving (showing 5 of 5). These functions will not be directly callable after loading.\n"
     ]
    },
    {
     "name": "stdout",
     "output_type": "stream",
     "text": [
      "INFO:tensorflow:Assets written to: c://Projects/emotion_detect_project/best_model_5emotion\\/assets\n"
     ]
    },
    {
     "name": "stderr",
     "output_type": "stream",
     "text": [
      "INFO:tensorflow:Assets written to: c://Projects/emotion_detect_project/best_model_5emotion\\/assets\n"
     ]
    },
    {
     "name": "stdout",
     "output_type": "stream",
     "text": [
      "604/604 [==============================] - 14s 22ms/step - loss: 0.2875 - accuracy: 0.8913 - val_loss: 1.0524 - val_accuracy: 0.6952 - lr: 1.0000e-06\n",
      "Epoch 49/100\n",
      "603/604 [============================>.] - ETA: 0s - loss: 0.2862 - accuracy: 0.8945"
     ]
    },
    {
     "name": "stderr",
     "output_type": "stream",
     "text": [
      "WARNING:absl:Found untraced functions such as _jit_compiled_convolution_op, _jit_compiled_convolution_op, _jit_compiled_convolution_op, _jit_compiled_convolution_op, _jit_compiled_convolution_op while saving (showing 5 of 5). These functions will not be directly callable after loading.\n"
     ]
    },
    {
     "name": "stdout",
     "output_type": "stream",
     "text": [
      "INFO:tensorflow:Assets written to: c://Projects/emotion_detect_project/best_model_5emotion\\/assets\n"
     ]
    },
    {
     "name": "stderr",
     "output_type": "stream",
     "text": [
      "INFO:tensorflow:Assets written to: c://Projects/emotion_detect_project/best_model_5emotion\\/assets\n"
     ]
    },
    {
     "name": "stdout",
     "output_type": "stream",
     "text": [
      "604/604 [==============================] - 14s 23ms/step - loss: 0.2862 - accuracy: 0.8945 - val_loss: 1.0556 - val_accuracy: 0.6954 - lr: 1.0000e-06\n",
      "Epoch 50/100\n",
      "601/604 [============================>.] - ETA: 0s - loss: 0.2853 - accuracy: 0.8955"
     ]
    },
    {
     "name": "stderr",
     "output_type": "stream",
     "text": [
      "WARNING:absl:Found untraced functions such as _jit_compiled_convolution_op, _jit_compiled_convolution_op, _jit_compiled_convolution_op, _jit_compiled_convolution_op, _jit_compiled_convolution_op while saving (showing 5 of 5). These functions will not be directly callable after loading.\n"
     ]
    },
    {
     "name": "stdout",
     "output_type": "stream",
     "text": [
      "INFO:tensorflow:Assets written to: c://Projects/emotion_detect_project/best_model_5emotion\\/assets\n"
     ]
    },
    {
     "name": "stderr",
     "output_type": "stream",
     "text": [
      "INFO:tensorflow:Assets written to: c://Projects/emotion_detect_project/best_model_5emotion\\/assets\n"
     ]
    },
    {
     "name": "stdout",
     "output_type": "stream",
     "text": [
      "604/604 [==============================] - 14s 23ms/step - loss: 0.2857 - accuracy: 0.8954 - val_loss: 1.0549 - val_accuracy: 0.6954 - lr: 1.0000e-06\n",
      "Epoch 51/100\n",
      "602/604 [============================>.] - ETA: 0s - loss: 0.2882 - accuracy: 0.8913"
     ]
    },
    {
     "name": "stderr",
     "output_type": "stream",
     "text": [
      "WARNING:absl:Found untraced functions such as _jit_compiled_convolution_op, _jit_compiled_convolution_op, _jit_compiled_convolution_op, _jit_compiled_convolution_op, _jit_compiled_convolution_op while saving (showing 5 of 5). These functions will not be directly callable after loading.\n"
     ]
    },
    {
     "name": "stdout",
     "output_type": "stream",
     "text": [
      "INFO:tensorflow:Assets written to: c://Projects/emotion_detect_project/best_model_5emotion\\/assets\n"
     ]
    },
    {
     "name": "stderr",
     "output_type": "stream",
     "text": [
      "INFO:tensorflow:Assets written to: c://Projects/emotion_detect_project/best_model_5emotion\\/assets\n"
     ]
    },
    {
     "name": "stdout",
     "output_type": "stream",
     "text": [
      "604/604 [==============================] - 14s 22ms/step - loss: 0.2882 - accuracy: 0.8912 - val_loss: 1.0546 - val_accuracy: 0.6954 - lr: 1.0000e-06\n",
      "Epoch 52/100\n",
      "602/604 [============================>.] - ETA: 0s - loss: 0.2936 - accuracy: 0.8921"
     ]
    },
    {
     "name": "stderr",
     "output_type": "stream",
     "text": [
      "WARNING:absl:Found untraced functions such as _jit_compiled_convolution_op, _jit_compiled_convolution_op, _jit_compiled_convolution_op, _jit_compiled_convolution_op, _jit_compiled_convolution_op while saving (showing 5 of 5). These functions will not be directly callable after loading.\n"
     ]
    },
    {
     "name": "stdout",
     "output_type": "stream",
     "text": [
      "INFO:tensorflow:Assets written to: c://Projects/emotion_detect_project/best_model_5emotion\\/assets\n"
     ]
    },
    {
     "name": "stderr",
     "output_type": "stream",
     "text": [
      "INFO:tensorflow:Assets written to: c://Projects/emotion_detect_project/best_model_5emotion\\/assets\n"
     ]
    },
    {
     "name": "stdout",
     "output_type": "stream",
     "text": [
      "604/604 [==============================] - 14s 23ms/step - loss: 0.2933 - accuracy: 0.8922 - val_loss: 1.0550 - val_accuracy: 0.6954 - lr: 1.0000e-06\n",
      "Epoch 53/100\n",
      "604/604 [==============================] - ETA: 0s - loss: 0.2855 - accuracy: 0.8936"
     ]
    },
    {
     "name": "stderr",
     "output_type": "stream",
     "text": [
      "WARNING:absl:Found untraced functions such as _jit_compiled_convolution_op, _jit_compiled_convolution_op, _jit_compiled_convolution_op, _jit_compiled_convolution_op, _jit_compiled_convolution_op while saving (showing 5 of 5). These functions will not be directly callable after loading.\n"
     ]
    },
    {
     "name": "stdout",
     "output_type": "stream",
     "text": [
      "INFO:tensorflow:Assets written to: c://Projects/emotion_detect_project/best_model_5emotion\\/assets\n"
     ]
    },
    {
     "name": "stderr",
     "output_type": "stream",
     "text": [
      "INFO:tensorflow:Assets written to: c://Projects/emotion_detect_project/best_model_5emotion\\/assets\n"
     ]
    },
    {
     "name": "stdout",
     "output_type": "stream",
     "text": [
      "604/604 [==============================] - 14s 23ms/step - loss: 0.2855 - accuracy: 0.8936 - val_loss: 1.0553 - val_accuracy: 0.6952 - lr: 1.0000e-06\n",
      "Epoch 54/100\n",
      "603/604 [============================>.] - ETA: 0s - loss: 0.2922 - accuracy: 0.8915"
     ]
    },
    {
     "name": "stderr",
     "output_type": "stream",
     "text": [
      "WARNING:absl:Found untraced functions such as _jit_compiled_convolution_op, _jit_compiled_convolution_op, _jit_compiled_convolution_op, _jit_compiled_convolution_op, _jit_compiled_convolution_op while saving (showing 5 of 5). These functions will not be directly callable after loading.\n"
     ]
    },
    {
     "name": "stdout",
     "output_type": "stream",
     "text": [
      "INFO:tensorflow:Assets written to: c://Projects/emotion_detect_project/best_model_5emotion\\/assets\n"
     ]
    },
    {
     "name": "stderr",
     "output_type": "stream",
     "text": [
      "INFO:tensorflow:Assets written to: c://Projects/emotion_detect_project/best_model_5emotion\\/assets\n"
     ]
    },
    {
     "name": "stdout",
     "output_type": "stream",
     "text": [
      "604/604 [==============================] - 14s 23ms/step - loss: 0.2921 - accuracy: 0.8916 - val_loss: 1.0548 - val_accuracy: 0.6956 - lr: 1.0000e-06\n",
      "Epoch 55/100\n",
      "601/604 [============================>.] - ETA: 0s - loss: 0.2839 - accuracy: 0.8930"
     ]
    },
    {
     "name": "stderr",
     "output_type": "stream",
     "text": [
      "WARNING:absl:Found untraced functions such as _jit_compiled_convolution_op, _jit_compiled_convolution_op, _jit_compiled_convolution_op, _jit_compiled_convolution_op, _jit_compiled_convolution_op while saving (showing 5 of 5). These functions will not be directly callable after loading.\n"
     ]
    },
    {
     "name": "stdout",
     "output_type": "stream",
     "text": [
      "INFO:tensorflow:Assets written to: c://Projects/emotion_detect_project/best_model_5emotion\\/assets\n"
     ]
    },
    {
     "name": "stderr",
     "output_type": "stream",
     "text": [
      "INFO:tensorflow:Assets written to: c://Projects/emotion_detect_project/best_model_5emotion\\/assets\n"
     ]
    },
    {
     "name": "stdout",
     "output_type": "stream",
     "text": [
      "604/604 [==============================] - 14s 23ms/step - loss: 0.2836 - accuracy: 0.8931 - val_loss: 1.0529 - val_accuracy: 0.6958 - lr: 1.0000e-06\n",
      "Epoch 56/100\n",
      "604/604 [==============================] - ETA: 0s - loss: 0.2877 - accuracy: 0.8939"
     ]
    },
    {
     "name": "stderr",
     "output_type": "stream",
     "text": [
      "WARNING:absl:Found untraced functions such as _jit_compiled_convolution_op, _jit_compiled_convolution_op, _jit_compiled_convolution_op, _jit_compiled_convolution_op, _jit_compiled_convolution_op while saving (showing 5 of 5). These functions will not be directly callable after loading.\n"
     ]
    },
    {
     "name": "stdout",
     "output_type": "stream",
     "text": [
      "INFO:tensorflow:Assets written to: c://Projects/emotion_detect_project/best_model_5emotion\\/assets\n"
     ]
    },
    {
     "name": "stderr",
     "output_type": "stream",
     "text": [
      "INFO:tensorflow:Assets written to: c://Projects/emotion_detect_project/best_model_5emotion\\/assets\n"
     ]
    },
    {
     "name": "stdout",
     "output_type": "stream",
     "text": [
      "604/604 [==============================] - 14s 23ms/step - loss: 0.2877 - accuracy: 0.8939 - val_loss: 1.0550 - val_accuracy: 0.6958 - lr: 1.0000e-06\n"
     ]
    }
   ],
   "source": [
    "emotion_model_info = model.fit(\n",
    "    train_generator,\n",
    "    steps_per_epoch = train_generator.n // BATCH_SIZE,\n",
    "    epochs = 100,\n",
    "    validation_data = valid_generator,\n",
    "    validation_steps = valid_generator.n // BATCH_SIZE,\n",
    "    callbacks=[checkpoint, earlystopping, reduce_lr]\n",
    ")"
   ]
  },
  {
   "cell_type": "code",
   "execution_count": 18,
   "id": "055c69cf-82c1-4529-bfec-0a385d435c88",
   "metadata": {},
   "outputs": [
    {
     "name": "stdout",
     "output_type": "stream",
     "text": [
      "188/188 [==============================] - 3s 15ms/step - loss: 0.8485 - accuracy: 0.6799\n",
      "accuracy: 67.99%\n",
      "loss: 0.85\n"
     ]
    }
   ],
   "source": [
    "test_loss, test_accuracy = model.evaluate(test_generator, batch_size = BATCH_SIZE, steps= test_generator.n//BATCH_SIZE)\n",
    "print(f\"accuracy: {test_accuracy*100:.2f}%\")\n",
    "print(f\"loss: {test_loss:.2f}\")"
   ]
  },
  {
   "cell_type": "code",
   "execution_count": 22,
   "id": "ce5b1e69-eaed-4aa0-be4f-9f1876649dec",
   "metadata": {},
   "outputs": [
    {
     "name": "stdout",
     "output_type": "stream",
     "text": [
      "113/113 [==============================] - 4s 33ms/step\n"
     ]
    }
   ],
   "source": [
    "predictions = model.predict(test_generator)\n",
    "predicted_classes = np.argmax(predictions, axis=1)"
   ]
  },
  {
   "cell_type": "code",
   "execution_count": 21,
   "id": "d2e67940-ea1a-4bbb-b093-1c76f747d202",
   "metadata": {},
   "outputs": [],
   "source": [
    "true_classes = test_generator.classes\n",
    "class_labels = list(test_generator.class_indices.keys())"
   ]
  },
  {
   "cell_type": "code",
   "execution_count": 22,
   "id": "bca9f737-36d0-4ce0-a32f-a279ff1c7bc4",
   "metadata": {},
   "outputs": [
    {
     "name": "stdout",
     "output_type": "stream",
     "text": [
      "              precision    recall  f1-score   support\n",
      "\n",
      "       angry       0.12      0.10      0.11       958\n",
      "     disgust       0.03      0.02      0.02       111\n",
      "        fear       0.14      0.12      0.13      1024\n",
      "       happy       0.25      0.31      0.28      1774\n",
      "     neutral       0.18      0.21      0.19      1233\n",
      "         sad       0.17      0.13      0.15      1247\n",
      "    surprise       0.12      0.12      0.12       831\n",
      "\n",
      "    accuracy                           0.18      7178\n",
      "   macro avg       0.14      0.14      0.14      7178\n",
      "weighted avg       0.17      0.18      0.17      7178\n",
      "\n"
     ]
    }
   ],
   "source": [
    "from sklearn.metrics import classification_report\n",
    "report = classification_report(true_classes, predicted_classes, target_names=class_labels)\n",
    "print(report)"
   ]
  },
  {
   "cell_type": "code",
   "execution_count": null,
   "id": "7aa75ca1-61c7-4d8b-bb34-0d9eae63e3c5",
   "metadata": {},
   "outputs": [],
   "source": []
  }
 ],
 "metadata": {
  "kernelspec": {
   "display_name": "Python 3 (ipykernel)",
   "language": "python",
   "name": "python3"
  },
  "language_info": {
   "codemirror_mode": {
    "name": "ipython",
    "version": 3
   },
   "file_extension": ".py",
   "mimetype": "text/x-python",
   "name": "python",
   "nbconvert_exporter": "python",
   "pygments_lexer": "ipython3",
   "version": "3.10.14"
  }
 },
 "nbformat": 4,
 "nbformat_minor": 5
}
