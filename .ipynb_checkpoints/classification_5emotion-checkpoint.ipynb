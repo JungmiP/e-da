{
 "cells": [
  {
   "cell_type": "code",
   "execution_count": 1,
   "id": "fb3651bd-8c96-46ab-ac6e-8fdb6b15dda1",
   "metadata": {},
   "outputs": [],
   "source": [
    "import warnings\n",
    "warnings.filterwarnings('ignore')\n",
    "import os\n",
    "import numpy as np\n",
    "import pandas as pd\n",
    "import matplotlib.pyplot as plt\n",
    "\n",
    "import keras\n",
    "from keras.utils import to_categorical\n",
    "\n",
    "import cv2\n",
    "\n",
    "from keras.models import Sequential, Model\n",
    "from keras.layers import Conv2D, MaxPooling2D, Dense, Dropout, Activation, Flatten, BatchNormalization\n",
    "from keras.optimizers import Adam\n",
    "from keras.preprocessing.image import ImageDataGenerator\n",
    "from keras.callbacks import ModelCheckpoint, EarlyStopping, ReduceLROnPlateau"
   ]
  },
  {
   "cell_type": "code",
   "execution_count": 2,
   "id": "88e4ae12-cc88-45ef-a9b4-57a93fde7a80",
   "metadata": {},
   "outputs": [
    {
     "data": {
      "text/plain": [
       "True"
      ]
     },
     "execution_count": 2,
     "metadata": {},
     "output_type": "execute_result"
    }
   ],
   "source": [
    "import torch\n",
    "torch.cuda.is_available()"
   ]
  },
  {
   "cell_type": "code",
   "execution_count": 3,
   "id": "527abc7d-0aa3-49f1-9964-dc80a8b6ec85",
   "metadata": {},
   "outputs": [],
   "source": [
    "os.environ[\"CUDA_VISIBLE_DEVICES\"] = \"0\""
   ]
  },
  {
   "cell_type": "code",
   "execution_count": 4,
   "id": "3909124e-814e-4a09-b7f2-ff3a5017026b",
   "metadata": {},
   "outputs": [
    {
     "name": "stdout",
     "output_type": "stream",
     "text": [
      "[[[ 23  23  23]\n",
      "  [ 52  52  52]\n",
      "  [ 54  54  54]\n",
      "  ...\n",
      "  [173 173 173]\n",
      "  [ 98  98  98]\n",
      "  [ 42  42  42]]\n",
      "\n",
      " [[ 23  23  23]\n",
      "  [ 48  48  48]\n",
      "  [ 53  53  53]\n",
      "  ...\n",
      "  [174 174 174]\n",
      "  [104 104 104]\n",
      "  [ 34  34  34]]\n",
      "\n",
      " [[ 30  30  30]\n",
      "  [ 50  50  50]\n",
      "  [ 55  55  55]\n",
      "  ...\n",
      "  [175 175 175]\n",
      "  [113 113 113]\n",
      "  [ 36  36  36]]\n",
      "\n",
      " ...\n",
      "\n",
      " [[ 31  31  31]\n",
      "  [ 28  28  28]\n",
      "  [ 29  29  29]\n",
      "  ...\n",
      "  [ 54  54  54]\n",
      "  [ 80  80  80]\n",
      "  [101 101 101]]\n",
      "\n",
      " [[ 31  31  31]\n",
      "  [ 29  29  29]\n",
      "  [ 30  30  30]\n",
      "  ...\n",
      "  [ 55  55  55]\n",
      "  [ 80  80  80]\n",
      "  [ 96  96  96]]\n",
      "\n",
      " [[ 29  29  29]\n",
      "  [ 31  31  31]\n",
      "  [ 28  28  28]\n",
      "  ...\n",
      "  [ 59  59  59]\n",
      "  [ 79  79  79]\n",
      "  [ 89  89  89]]]\n"
     ]
    }
   ],
   "source": [
    "cv2_image = cv2.imread(\"./FER-2013/train/angry/Training_992349.jpg\")\n",
    "print(cv2_image)"
   ]
  },
  {
   "cell_type": "code",
   "execution_count": 5,
   "id": "9e4ee0a7-9778-484a-99c8-032386edfb60",
   "metadata": {},
   "outputs": [
    {
     "data": {
      "text/plain": [
       "<matplotlib.image.AxesImage at 0x1c6bce3c8b0>"
      ]
     },
     "execution_count": 5,
     "metadata": {},
     "output_type": "execute_result"
    },
    {
     "data": {
      "image/png": "[encoded data removed]",
      "text/plain": [
       "<Figure size 640x480 with 1 Axes>"
      ]
     },
     "metadata": {},
     "output_type": "display_data"
    }
   ],
   "source": [
    "plt.imshow(cv2_image)"
   ]
  },
  {
   "cell_type": "code",
   "execution_count": 6,
   "id": "dfc8f033-3279-4fee-a150-b4cd1c1d3b04",
   "metadata": {},
   "outputs": [],
   "source": [
    "train_data_gen = ImageDataGenerator(rescale=1./255, validation_split=0.2)\n",
    "test_data_gen = ImageDataGenerator(rescale=1./255)"
   ]
  },
  {
   "cell_type": "code",
   "execution_count": 7,
   "id": "b4fcd7b3-bb11-4d33-88c5-80a57fe09e79",
   "metadata": {},
   "outputs": [],
   "source": [
    "BATCH_SIZE = 32"
   ]
  },
  {
   "cell_type": "code",
   "execution_count": 8,
   "id": "95aa53a7-fc95-4fdf-a4b6-aa04f39c46be",
   "metadata": {},
   "outputs": [
    {
     "name": "stdout",
     "output_type": "stream",
     "text": [
      "Found 22968 images belonging to 7 classes.\n"
     ]
    }
   ],
   "source": [
    "train_generator = train_data_gen.flow_from_directory(\n",
    "    './FER-2013/train',\n",
    "    subset='training',\n",
    "    target_size = (48, 48),\n",
    "    batch_size = BATCH_SIZE,\n",
    "    color_mode = 'grayscale',\n",
    "    class_mode = 'categorical'\n",
    ")"
   ]
  },
  {
   "cell_type": "code",
   "execution_count": 9,
   "id": "e1ac4a62-6a92-4f15-bc85-092a5378fed2",
   "metadata": {},
   "outputs": [
    {
     "name": "stdout",
     "output_type": "stream",
     "text": [
      "Found 5741 images belonging to 7 classes.\n"
     ]
    }
   ],
   "source": [
    "valid_generator = train_data_gen.flow_from_directory(\n",
    "    './FER-2013/train',\n",
    "    subset='validation',\n",
    "    target_size = (48, 48),\n",
    "    batch_size = BATCH_SIZE,\n",
    "    color_mode = 'grayscale',\n",
    "    class_mode = 'categorical'\n",
    ")"
   ]
  },
  {
   "cell_type": "code",
   "execution_count": 10,
   "id": "25dd74ed-c15c-4223-b7a2-5e62ec6bb3df",
   "metadata": {},
   "outputs": [
    {
     "name": "stdout",
     "output_type": "stream",
     "text": [
      "Found 7178 images belonging to 7 classes.\n"
     ]
    }
   ],
   "source": [
    "test_generator = test_data_gen.flow_from_directory(\n",
    "    './FER-2013/test',\n",
    "    target_size = (48, 48),\n",
    "    batch_size = BATCH_SIZE,\n",
    "    color_mode = 'grayscale',\n",
    "    class_mode = 'categorical'\n",
    ")"
   ]
  },
  {
   "cell_type": "code",
   "execution_count": 11,
   "id": "2fe1e029-1bf3-4704-96ae-0ecc4dab1785",
   "metadata": {},
   "outputs": [],
   "source": [
    "model = Sequential()\n",
    "model.add(Conv2D(32, kernel_size=(3,3), activation='relu', input_shape=(48, 48, 1), padding='same'))\n",
    "model.add(Conv2D(64, kernel_size=(3,3), activation='relu'))\n",
    "model.add(BatchNormalization())\n",
    "model.add(MaxPooling2D(pool_size=(2,2)))\n",
    "model.add(Dropout(0.25))\n",
    "\n",
    "model.add(Conv2D(128, kernel_size=(3,3), activation='relu', padding='same'))\n",
    "\n",
    "model.add(Conv2D(256, kernel_size=(3,3), activation='relu'))\n",
    "model.add(BatchNormalization())\n",
    "model.add(MaxPooling2D(pool_size=(2,2)))\n",
    "model.add(Dropout(0.25))\n",
    "\n",
    "model.add(Conv2D(512, kernel_size=(3,3), activation='relu', padding='same'))\n",
    "model.add(Conv2D(512, kernel_size=(3,3), activation='relu', padding='same'))\n",
    "model.add(BatchNormalization())\n",
    "model.add(MaxPooling2D(pool_size=(2,2)))\n",
    "model.add(Dropout(0.25))\n",
    "\n",
    "model.add(Flatten())\n",
    "model.add(Dense(1024, activation='relu'))\n",
    "model.add(Dropout(0.5))\n",
    "# model.add(Dense(128, activation='relu'))\n",
    "# model.add(Dropout(0.5))\n",
    "model.add(Dense(7, activation='softmax'))"
   ]
  },
  {
   "cell_type": "code",
   "execution_count": 12,
   "id": "e45aa62d-c3e9-4ec7-8acc-33be9c086b47",
   "metadata": {},
   "outputs": [
    {
     "name": "stdout",
     "output_type": "stream",
     "text": [
      "Model: \"sequential\"\n",
      "_________________________________________________________________\n",
      " Layer (type)                Output Shape              Param #   \n",
      "=================================================================\n",
      " conv2d (Conv2D)             (None, 48, 48, 32)        320       \n",
      "                                                                 \n",
      " conv2d_1 (Conv2D)           (None, 46, 46, 64)        18496     \n",
      "                                                                 \n",
      " batch_normalization (BatchN  (None, 46, 46, 64)       256       \n",
      " ormalization)                                                   \n",
      "                                                                 \n",
      " max_pooling2d (MaxPooling2D  (None, 23, 23, 64)       0         \n",
      " )                                                               \n",
      "                                                                 \n",
      " dropout (Dropout)           (None, 23, 23, 64)        0         \n",
      "                                                                 \n",
      " conv2d_2 (Conv2D)           (None, 23, 23, 128)       73856     \n",
      "                                                                 \n",
      " conv2d_3 (Conv2D)           (None, 21, 21, 256)       295168    \n",
      "                                                                 \n",
      " batch_normalization_1 (Batc  (None, 21, 21, 256)      1024      \n",
      " hNormalization)                                                 \n",
      "                                                                 \n",
      " max_pooling2d_1 (MaxPooling  (None, 10, 10, 256)      0         \n",
      " 2D)                                                             \n",
      "                                                                 \n",
      " dropout_1 (Dropout)         (None, 10, 10, 256)       0         \n",
      "                                                                 \n",
      " conv2d_4 (Conv2D)           (None, 10, 10, 512)       1180160   \n",
      "                                                                 \n",
      " conv2d_5 (Conv2D)           (None, 10, 10, 512)       2359808   \n",
      "                                                                 \n",
      " batch_normalization_2 (Batc  (None, 10, 10, 512)      2048      \n",
      " hNormalization)                                                 \n",
      "                                                                 \n",
      " max_pooling2d_2 (MaxPooling  (None, 5, 5, 512)        0         \n",
      " 2D)                                                             \n",
      "                                                                 \n",
      " dropout_2 (Dropout)         (None, 5, 5, 512)         0         \n",
      "                                                                 \n",
      " flatten (Flatten)           (None, 12800)             0         \n",
      "                                                                 \n",
      " dense (Dense)               (None, 1024)              13108224  \n",
      "                                                                 \n",
      " dropout_3 (Dropout)         (None, 1024)              0         \n",
      "                                                                 \n",
      " dense_1 (Dense)             (None, 7)                 7175      \n",
      "                                                                 \n",
      "=================================================================\n",
      "Total params: 17,046,535\n",
      "Trainable params: 17,044,871\n",
      "Non-trainable params: 1,664\n",
      "_________________________________________________________________\n"
     ]
    }
   ],
   "source": [
    "model.summary()"
   ]
  },
  {
   "cell_type": "code",
   "execution_count": 13,
   "id": "3fe903de-8197-4b49-b9d4-4672ea1db527",
   "metadata": {},
   "outputs": [],
   "source": [
    "model.compile(loss='categorical_crossentropy', optimizer=Adam(learning_rate=0.001, decay=1e-6), metrics=['accuracy'])"
   ]
  },
  {
   "cell_type": "code",
   "execution_count": 14,
   "id": "35c3c95f-bef6-4f9a-aa5e-325bfab926d1",
   "metadata": {},
   "outputs": [],
   "source": [
    "checkpoint = ModelCheckpoint(filepath='c://Projects/emotion_detect_project/best_model/', monitor='val_loss', mode='min', save_vest_only=True)"
   ]
  },
  {
   "cell_type": "code",
   "execution_count": 15,
   "id": "b0a05127-7343-407a-be4c-434be83af13b",
   "metadata": {},
   "outputs": [],
   "source": [
    "earlystopping = EarlyStopping(monitor='val_loss', patience=30, restore_best_weights=True)"
   ]
  },
  {
   "cell_type": "code",
   "execution_count": 16,
   "id": "929d0a8d-b8c6-48fa-a2a5-d1240c6376dd",
   "metadata": {},
   "outputs": [],
   "source": [
    "reduce_lr = ReduceLROnPlateau(monitor='val_loss', factor=0.2, patience=10, min_delta=0.0001)"
   ]
  },
  {
   "cell_type": "code",
   "execution_count": 17,
   "id": "56815377-9cb6-4176-9092-2f6322fe81fe",
   "metadata": {
    "scrolled": true
   },
   "outputs": [
    {
     "name": "stdout",
     "output_type": "stream",
     "text": [
      "Epoch 1/100\n",
      "714/717 [============================>.] - ETA: 0s - loss: 2.6303 - accuracy: 0.2349"
     ]
    },
    {
     "name": "stderr",
     "output_type": "stream",
     "text": [
      "WARNING:absl:Found untraced functions such as _jit_compiled_convolution_op, _jit_compiled_convolution_op, _jit_compiled_convolution_op, _jit_compiled_convolution_op, _jit_compiled_convolution_op while saving (showing 5 of 6). These functions will not be directly callable after loading.\n"
     ]
    },
    {
     "name": "stdout",
     "output_type": "stream",
     "text": [
      "INFO:tensorflow:Assets written to: c://Projects/emotion_detect_project/best_model\\/assets\n"
     ]
    },
    {
     "name": "stderr",
     "output_type": "stream",
     "text": [
      "INFO:tensorflow:Assets written to: c://Projects/emotion_detect_project/best_model\\/assets\n"
     ]
    },
    {
     "name": "stdout",
     "output_type": "stream",
     "text": [
      "717/717 [==============================] - 24s 26ms/step - loss: 2.6271 - accuracy: 0.2351 - val_loss: 1.7691 - val_accuracy: 0.2512 - lr: 0.0010\n",
      "Epoch 2/100\n",
      "717/717 [==============================] - ETA: 0s - loss: 1.7807 - accuracy: 0.2633"
     ]
    },
    {
     "name": "stderr",
     "output_type": "stream",
     "text": [
      "WARNING:absl:Found untraced functions such as _jit_compiled_convolution_op, _jit_compiled_convolution_op, _jit_compiled_convolution_op, _jit_compiled_convolution_op, _jit_compiled_convolution_op while saving (showing 5 of 6). These functions will not be directly callable after loading.\n"
     ]
    },
    {
     "name": "stdout",
     "output_type": "stream",
     "text": [
      "INFO:tensorflow:Assets written to: c://Projects/emotion_detect_project/best_model\\/assets\n"
     ]
    },
    {
     "name": "stderr",
     "output_type": "stream",
     "text": [
      "INFO:tensorflow:Assets written to: c://Projects/emotion_detect_project/best_model\\/assets\n"
     ]
    },
    {
     "name": "stdout",
     "output_type": "stream",
     "text": [
      "717/717 [==============================] - 18s 25ms/step - loss: 1.7807 - accuracy: 0.2633 - val_loss: 1.7609 - val_accuracy: 0.2792 - lr: 0.0010\n",
      "Epoch 3/100\n",
      "716/717 [============================>.] - ETA: 0s - loss: 1.7048 - accuracy: 0.3068"
     ]
    },
    {
     "name": "stderr",
     "output_type": "stream",
     "text": [
      "WARNING:absl:Found untraced functions such as _jit_compiled_convolution_op, _jit_compiled_convolution_op, _jit_compiled_convolution_op, _jit_compiled_convolution_op, _jit_compiled_convolution_op while saving (showing 5 of 6). These functions will not be directly callable after loading.\n"
     ]
    },
    {
     "name": "stdout",
     "output_type": "stream",
     "text": [
      "INFO:tensorflow:Assets written to: c://Projects/emotion_detect_project/best_model\\/assets\n"
     ]
    },
    {
     "name": "stderr",
     "output_type": "stream",
     "text": [
      "INFO:tensorflow:Assets written to: c://Projects/emotion_detect_project/best_model\\/assets\n"
     ]
    },
    {
     "name": "stdout",
     "output_type": "stream",
     "text": [
      "717/717 [==============================] - 18s 25ms/step - loss: 1.7047 - accuracy: 0.3069 - val_loss: 1.8175 - val_accuracy: 0.2771 - lr: 0.0010\n",
      "Epoch 4/100\n",
      "715/717 [============================>.] - ETA: 0s - loss: 1.6379 - accuracy: 0.3393"
     ]
    },
    {
     "name": "stderr",
     "output_type": "stream",
     "text": [
      "WARNING:absl:Found untraced functions such as _jit_compiled_convolution_op, _jit_compiled_convolution_op, _jit_compiled_convolution_op, _jit_compiled_convolution_op, _jit_compiled_convolution_op while saving (showing 5 of 6). These functions will not be directly callable after loading.\n"
     ]
    },
    {
     "name": "stdout",
     "output_type": "stream",
     "text": [
      "INFO:tensorflow:Assets written to: c://Projects/emotion_detect_project/best_model\\/assets\n"
     ]
    },
    {
     "name": "stderr",
     "output_type": "stream",
     "text": [
      "INFO:tensorflow:Assets written to: c://Projects/emotion_detect_project/best_model\\/assets\n"
     ]
    },
    {
     "name": "stdout",
     "output_type": "stream",
     "text": [
      "717/717 [==============================] - 18s 25ms/step - loss: 1.6382 - accuracy: 0.3392 - val_loss: 1.5955 - val_accuracy: 0.3738 - lr: 0.0010\n",
      "Epoch 5/100\n",
      "716/717 [============================>.] - ETA: 0s - loss: 1.5815 - accuracy: 0.3722"
     ]
    },
    {
     "name": "stderr",
     "output_type": "stream",
     "text": [
      "WARNING:absl:Found untraced functions such as _jit_compiled_convolution_op, _jit_compiled_convolution_op, _jit_compiled_convolution_op, _jit_compiled_convolution_op, _jit_compiled_convolution_op while saving (showing 5 of 6). These functions will not be directly callable after loading.\n"
     ]
    },
    {
     "name": "stdout",
     "output_type": "stream",
     "text": [
      "INFO:tensorflow:Assets written to: c://Projects/emotion_detect_project/best_model\\/assets\n"
     ]
    },
    {
     "name": "stderr",
     "output_type": "stream",
     "text": [
      "INFO:tensorflow:Assets written to: c://Projects/emotion_detect_project/best_model\\/assets\n"
     ]
    },
    {
     "name": "stdout",
     "output_type": "stream",
     "text": [
      "717/717 [==============================] - 18s 25ms/step - loss: 1.5812 - accuracy: 0.3725 - val_loss: 1.5194 - val_accuracy: 0.3949 - lr: 0.0010\n",
      "Epoch 6/100\n",
      "716/717 [============================>.] - ETA: 0s - loss: 1.5232 - accuracy: 0.4004"
     ]
    },
    {
     "name": "stderr",
     "output_type": "stream",
     "text": [
      "WARNING:absl:Found untraced functions such as _jit_compiled_convolution_op, _jit_compiled_convolution_op, _jit_compiled_convolution_op, _jit_compiled_convolution_op, _jit_compiled_convolution_op while saving (showing 5 of 6). These functions will not be directly callable after loading.\n"
     ]
    },
    {
     "name": "stdout",
     "output_type": "stream",
     "text": [
      "INFO:tensorflow:Assets written to: c://Projects/emotion_detect_project/best_model\\/assets\n"
     ]
    },
    {
     "name": "stderr",
     "output_type": "stream",
     "text": [
      "INFO:tensorflow:Assets written to: c://Projects/emotion_detect_project/best_model\\/assets\n"
     ]
    },
    {
     "name": "stdout",
     "output_type": "stream",
     "text": [
      "717/717 [==============================] - 18s 25ms/step - loss: 1.5227 - accuracy: 0.4008 - val_loss: 1.3940 - val_accuracy: 0.4602 - lr: 0.0010\n",
      "Epoch 7/100\n",
      "717/717 [==============================] - ETA: 0s - loss: 1.4719 - accuracy: 0.4207"
     ]
    },
    {
     "name": "stderr",
     "output_type": "stream",
     "text": [
      "WARNING:absl:Found untraced functions such as _jit_compiled_convolution_op, _jit_compiled_convolution_op, _jit_compiled_convolution_op, _jit_compiled_convolution_op, _jit_compiled_convolution_op while saving (showing 5 of 6). These functions will not be directly callable after loading.\n"
     ]
    },
    {
     "name": "stdout",
     "output_type": "stream",
     "text": [
      "INFO:tensorflow:Assets written to: c://Projects/emotion_detect_project/best_model\\/assets\n"
     ]
    },
    {
     "name": "stderr",
     "output_type": "stream",
     "text": [
      "INFO:tensorflow:Assets written to: c://Projects/emotion_detect_project/best_model\\/assets\n"
     ]
    },
    {
     "name": "stdout",
     "output_type": "stream",
     "text": [
      "717/717 [==============================] - 18s 24ms/step - loss: 1.4719 - accuracy: 0.4207 - val_loss: 1.7079 - val_accuracy: 0.3500 - lr: 0.0010\n",
      "Epoch 8/100\n",
      "717/717 [==============================] - ETA: 0s - loss: 1.4480 - accuracy: 0.4302"
     ]
    },
    {
     "name": "stderr",
     "output_type": "stream",
     "text": [
      "WARNING:absl:Found untraced functions such as _jit_compiled_convolution_op, _jit_compiled_convolution_op, _jit_compiled_convolution_op, _jit_compiled_convolution_op, _jit_compiled_convolution_op while saving (showing 5 of 6). These functions will not be directly callable after loading.\n"
     ]
    },
    {
     "name": "stdout",
     "output_type": "stream",
     "text": [
      "INFO:tensorflow:Assets written to: c://Projects/emotion_detect_project/best_model\\/assets\n"
     ]
    },
    {
     "name": "stderr",
     "output_type": "stream",
     "text": [
      "INFO:tensorflow:Assets written to: c://Projects/emotion_detect_project/best_model\\/assets\n"
     ]
    },
    {
     "name": "stdout",
     "output_type": "stream",
     "text": [
      "717/717 [==============================] - 18s 25ms/step - loss: 1.4480 - accuracy: 0.4302 - val_loss: 1.3734 - val_accuracy: 0.4791 - lr: 0.0010\n",
      "Epoch 9/100\n",
      "717/717 [==============================] - ETA: 0s - loss: 1.4105 - accuracy: 0.4460"
     ]
    },
    {
     "name": "stderr",
     "output_type": "stream",
     "text": [
      "WARNING:absl:Found untraced functions such as _jit_compiled_convolution_op, _jit_compiled_convolution_op, _jit_compiled_convolution_op, _jit_compiled_convolution_op, _jit_compiled_convolution_op while saving (showing 5 of 6). These functions will not be directly callable after loading.\n"
     ]
    },
    {
     "name": "stdout",
     "output_type": "stream",
     "text": [
      "INFO:tensorflow:Assets written to: c://Projects/emotion_detect_project/best_model\\/assets\n"
     ]
    },
    {
     "name": "stderr",
     "output_type": "stream",
     "text": [
      "INFO:tensorflow:Assets written to: c://Projects/emotion_detect_project/best_model\\/assets\n"
     ]
    },
    {
     "name": "stdout",
     "output_type": "stream",
     "text": [
      "717/717 [==============================] - 18s 25ms/step - loss: 1.4105 - accuracy: 0.4460 - val_loss: 1.6068 - val_accuracy: 0.3670 - lr: 0.0010\n",
      "Epoch 10/100\n",
      "717/717 [==============================] - ETA: 0s - loss: 1.3816 - accuracy: 0.4622"
     ]
    },
    {
     "name": "stderr",
     "output_type": "stream",
     "text": [
      "WARNING:absl:Found untraced functions such as _jit_compiled_convolution_op, _jit_compiled_convolution_op, _jit_compiled_convolution_op, _jit_compiled_convolution_op, _jit_compiled_convolution_op while saving (showing 5 of 6). These functions will not be directly callable after loading.\n"
     ]
    },
    {
     "name": "stdout",
     "output_type": "stream",
     "text": [
      "INFO:tensorflow:Assets written to: c://Projects/emotion_detect_project/best_model\\/assets\n"
     ]
    },
    {
     "name": "stderr",
     "output_type": "stream",
     "text": [
      "INFO:tensorflow:Assets written to: c://Projects/emotion_detect_project/best_model\\/assets\n"
     ]
    },
    {
     "name": "stdout",
     "output_type": "stream",
     "text": [
      "717/717 [==============================] - 18s 25ms/step - loss: 1.3816 - accuracy: 0.4622 - val_loss: 1.3417 - val_accuracy: 0.4907 - lr: 0.0010\n",
      "Epoch 11/100\n",
      "717/717 [==============================] - ETA: 0s - loss: 1.3470 - accuracy: 0.4806"
     ]
    },
    {
     "name": "stderr",
     "output_type": "stream",
     "text": [
      "WARNING:absl:Found untraced functions such as _jit_compiled_convolution_op, _jit_compiled_convolution_op, _jit_compiled_convolution_op, _jit_compiled_convolution_op, _jit_compiled_convolution_op while saving (showing 5 of 6). These functions will not be directly callable after loading.\n"
     ]
    },
    {
     "name": "stdout",
     "output_type": "stream",
     "text": [
      "INFO:tensorflow:Assets written to: c://Projects/emotion_detect_project/best_model\\/assets\n"
     ]
    },
    {
     "name": "stderr",
     "output_type": "stream",
     "text": [
      "INFO:tensorflow:Assets written to: c://Projects/emotion_detect_project/best_model\\/assets\n"
     ]
    },
    {
     "name": "stdout",
     "output_type": "stream",
     "text": [
      "717/717 [==============================] - 18s 25ms/step - loss: 1.3470 - accuracy: 0.4806 - val_loss: 1.4880 - val_accuracy: 0.4621 - lr: 0.0010\n",
      "Epoch 12/100\n",
      "717/717 [==============================] - ETA: 0s - loss: 1.3165 - accuracy: 0.4935"
     ]
    },
    {
     "name": "stderr",
     "output_type": "stream",
     "text": [
      "WARNING:absl:Found untraced functions such as _jit_compiled_convolution_op, _jit_compiled_convolution_op, _jit_compiled_convolution_op, _jit_compiled_convolution_op, _jit_compiled_convolution_op while saving (showing 5 of 6). These functions will not be directly callable after loading.\n"
     ]
    },
    {
     "name": "stdout",
     "output_type": "stream",
     "text": [
      "INFO:tensorflow:Assets written to: c://Projects/emotion_detect_project/best_model\\/assets\n"
     ]
    },
    {
     "name": "stderr",
     "output_type": "stream",
     "text": [
      "INFO:tensorflow:Assets written to: c://Projects/emotion_detect_project/best_model\\/assets\n"
     ]
    },
    {
     "name": "stdout",
     "output_type": "stream",
     "text": [
      "717/717 [==============================] - 18s 25ms/step - loss: 1.3165 - accuracy: 0.4935 - val_loss: 1.2768 - val_accuracy: 0.5161 - lr: 0.0010\n",
      "Epoch 13/100\n",
      "716/717 [============================>.] - ETA: 0s - loss: 1.2816 - accuracy: 0.5085"
     ]
    },
    {
     "name": "stderr",
     "output_type": "stream",
     "text": [
      "WARNING:absl:Found untraced functions such as _jit_compiled_convolution_op, _jit_compiled_convolution_op, _jit_compiled_convolution_op, _jit_compiled_convolution_op, _jit_compiled_convolution_op while saving (showing 5 of 6). These functions will not be directly callable after loading.\n"
     ]
    },
    {
     "name": "stdout",
     "output_type": "stream",
     "text": [
      "INFO:tensorflow:Assets written to: c://Projects/emotion_detect_project/best_model\\/assets\n"
     ]
    },
    {
     "name": "stderr",
     "output_type": "stream",
     "text": [
      "INFO:tensorflow:Assets written to: c://Projects/emotion_detect_project/best_model\\/assets\n"
     ]
    },
    {
     "name": "stdout",
     "output_type": "stream",
     "text": [
      "717/717 [==============================] - 18s 25ms/step - loss: 1.2819 - accuracy: 0.5082 - val_loss: 1.2460 - val_accuracy: 0.5290 - lr: 0.0010\n",
      "Epoch 14/100\n",
      "716/717 [============================>.] - ETA: 0s - loss: 1.2442 - accuracy: 0.5242"
     ]
    },
    {
     "name": "stderr",
     "output_type": "stream",
     "text": [
      "WARNING:absl:Found untraced functions such as _jit_compiled_convolution_op, _jit_compiled_convolution_op, _jit_compiled_convolution_op, _jit_compiled_convolution_op, _jit_compiled_convolution_op while saving (showing 5 of 6). These functions will not be directly callable after loading.\n"
     ]
    },
    {
     "name": "stdout",
     "output_type": "stream",
     "text": [
      "INFO:tensorflow:Assets written to: c://Projects/emotion_detect_project/best_model\\/assets\n"
     ]
    },
    {
     "name": "stderr",
     "output_type": "stream",
     "text": [
      "INFO:tensorflow:Assets written to: c://Projects/emotion_detect_project/best_model\\/assets\n"
     ]
    },
    {
     "name": "stdout",
     "output_type": "stream",
     "text": [
      "717/717 [==============================] - 18s 25ms/step - loss: 1.2442 - accuracy: 0.5242 - val_loss: 1.2479 - val_accuracy: 0.5414 - lr: 0.0010\n",
      "Epoch 15/100\n",
      "716/717 [============================>.] - ETA: 0s - loss: 1.2084 - accuracy: 0.5419"
     ]
    },
    {
     "name": "stderr",
     "output_type": "stream",
     "text": [
      "WARNING:absl:Found untraced functions such as _jit_compiled_convolution_op, _jit_compiled_convolution_op, _jit_compiled_convolution_op, _jit_compiled_convolution_op, _jit_compiled_convolution_op while saving (showing 5 of 6). These functions will not be directly callable after loading.\n"
     ]
    },
    {
     "name": "stdout",
     "output_type": "stream",
     "text": [
      "INFO:tensorflow:Assets written to: c://Projects/emotion_detect_project/best_model\\/assets\n"
     ]
    },
    {
     "name": "stderr",
     "output_type": "stream",
     "text": [
      "INFO:tensorflow:Assets written to: c://Projects/emotion_detect_project/best_model\\/assets\n"
     ]
    },
    {
     "name": "stdout",
     "output_type": "stream",
     "text": [
      "717/717 [==============================] - 18s 25ms/step - loss: 1.2080 - accuracy: 0.5421 - val_loss: 1.2329 - val_accuracy: 0.5316 - lr: 0.0010\n",
      "Epoch 16/100\n",
      "717/717 [==============================] - ETA: 0s - loss: 1.1579 - accuracy: 0.5592"
     ]
    },
    {
     "name": "stderr",
     "output_type": "stream",
     "text": [
      "WARNING:absl:Found untraced functions such as _jit_compiled_convolution_op, _jit_compiled_convolution_op, _jit_compiled_convolution_op, _jit_compiled_convolution_op, _jit_compiled_convolution_op while saving (showing 5 of 6). These functions will not be directly callable after loading.\n"
     ]
    },
    {
     "name": "stdout",
     "output_type": "stream",
     "text": [
      "INFO:tensorflow:Assets written to: c://Projects/emotion_detect_project/best_model\\/assets\n"
     ]
    },
    {
     "name": "stderr",
     "output_type": "stream",
     "text": [
      "INFO:tensorflow:Assets written to: c://Projects/emotion_detect_project/best_model\\/assets\n"
     ]
    },
    {
     "name": "stdout",
     "output_type": "stream",
     "text": [
      "717/717 [==============================] - 18s 25ms/step - loss: 1.1579 - accuracy: 0.5592 - val_loss: 1.2081 - val_accuracy: 0.5524 - lr: 0.0010\n",
      "Epoch 17/100\n",
      "717/717 [==============================] - ETA: 0s - loss: 1.1173 - accuracy: 0.5783"
     ]
    },
    {
     "name": "stderr",
     "output_type": "stream",
     "text": [
      "WARNING:absl:Found untraced functions such as _jit_compiled_convolution_op, _jit_compiled_convolution_op, _jit_compiled_convolution_op, _jit_compiled_convolution_op, _jit_compiled_convolution_op while saving (showing 5 of 6). These functions will not be directly callable after loading.\n"
     ]
    },
    {
     "name": "stdout",
     "output_type": "stream",
     "text": [
      "INFO:tensorflow:Assets written to: c://Projects/emotion_detect_project/best_model\\/assets\n"
     ]
    },
    {
     "name": "stderr",
     "output_type": "stream",
     "text": [
      "INFO:tensorflow:Assets written to: c://Projects/emotion_detect_project/best_model\\/assets\n"
     ]
    },
    {
     "name": "stdout",
     "output_type": "stream",
     "text": [
      "717/717 [==============================] - 18s 25ms/step - loss: 1.1173 - accuracy: 0.5783 - val_loss: 1.2478 - val_accuracy: 0.5585 - lr: 0.0010\n",
      "Epoch 18/100\n",
      "717/717 [==============================] - ETA: 0s - loss: 1.0629 - accuracy: 0.5966"
     ]
    },
    {
     "name": "stderr",
     "output_type": "stream",
     "text": [
      "WARNING:absl:Found untraced functions such as _jit_compiled_convolution_op, _jit_compiled_convolution_op, _jit_compiled_convolution_op, _jit_compiled_convolution_op, _jit_compiled_convolution_op while saving (showing 5 of 6). These functions will not be directly callable after loading.\n"
     ]
    },
    {
     "name": "stdout",
     "output_type": "stream",
     "text": [
      "INFO:tensorflow:Assets written to: c://Projects/emotion_detect_project/best_model\\/assets\n"
     ]
    },
    {
     "name": "stderr",
     "output_type": "stream",
     "text": [
      "INFO:tensorflow:Assets written to: c://Projects/emotion_detect_project/best_model\\/assets\n"
     ]
    },
    {
     "name": "stdout",
     "output_type": "stream",
     "text": [
      "717/717 [==============================] - 18s 26ms/step - loss: 1.0629 - accuracy: 0.5966 - val_loss: 1.1976 - val_accuracy: 0.5656 - lr: 0.0010\n",
      "Epoch 19/100\n",
      "715/717 [============================>.] - ETA: 0s - loss: 1.0309 - accuracy: 0.6061"
     ]
    },
    {
     "name": "stderr",
     "output_type": "stream",
     "text": [
      "WARNING:absl:Found untraced functions such as _jit_compiled_convolution_op, _jit_compiled_convolution_op, _jit_compiled_convolution_op, _jit_compiled_convolution_op, _jit_compiled_convolution_op while saving (showing 5 of 6). These functions will not be directly callable after loading.\n"
     ]
    },
    {
     "name": "stdout",
     "output_type": "stream",
     "text": [
      "INFO:tensorflow:Assets written to: c://Projects/emotion_detect_project/best_model\\/assets\n"
     ]
    },
    {
     "name": "stderr",
     "output_type": "stream",
     "text": [
      "INFO:tensorflow:Assets written to: c://Projects/emotion_detect_project/best_model\\/assets\n"
     ]
    },
    {
     "name": "stdout",
     "output_type": "stream",
     "text": [
      "717/717 [==============================] - 18s 25ms/step - loss: 1.0312 - accuracy: 0.6062 - val_loss: 1.2865 - val_accuracy: 0.5491 - lr: 0.0010\n",
      "Epoch 20/100\n",
      "714/717 [============================>.] - ETA: 0s - loss: 0.9988 - accuracy: 0.6183"
     ]
    },
    {
     "name": "stderr",
     "output_type": "stream",
     "text": [
      "WARNING:absl:Found untraced functions such as _jit_compiled_convolution_op, _jit_compiled_convolution_op, _jit_compiled_convolution_op, _jit_compiled_convolution_op, _jit_compiled_convolution_op while saving (showing 5 of 6). These functions will not be directly callable after loading.\n"
     ]
    },
    {
     "name": "stdout",
     "output_type": "stream",
     "text": [
      "INFO:tensorflow:Assets written to: c://Projects/emotion_detect_project/best_model\\/assets\n"
     ]
    },
    {
     "name": "stderr",
     "output_type": "stream",
     "text": [
      "INFO:tensorflow:Assets written to: c://Projects/emotion_detect_project/best_model\\/assets\n"
     ]
    },
    {
     "name": "stdout",
     "output_type": "stream",
     "text": [
      "717/717 [==============================] - 18s 25ms/step - loss: 0.9986 - accuracy: 0.6185 - val_loss: 1.2092 - val_accuracy: 0.5669 - lr: 0.0010\n",
      "Epoch 21/100\n",
      "717/717 [==============================] - ETA: 0s - loss: 0.9534 - accuracy: 0.6405"
     ]
    },
    {
     "name": "stderr",
     "output_type": "stream",
     "text": [
      "WARNING:absl:Found untraced functions such as _jit_compiled_convolution_op, _jit_compiled_convolution_op, _jit_compiled_convolution_op, _jit_compiled_convolution_op, _jit_compiled_convolution_op while saving (showing 5 of 6). These functions will not be directly callable after loading.\n"
     ]
    },
    {
     "name": "stdout",
     "output_type": "stream",
     "text": [
      "INFO:tensorflow:Assets written to: c://Projects/emotion_detect_project/best_model\\/assets\n"
     ]
    },
    {
     "name": "stderr",
     "output_type": "stream",
     "text": [
      "INFO:tensorflow:Assets written to: c://Projects/emotion_detect_project/best_model\\/assets\n"
     ]
    },
    {
     "name": "stdout",
     "output_type": "stream",
     "text": [
      "717/717 [==============================] - 18s 25ms/step - loss: 0.9534 - accuracy: 0.6405 - val_loss: 1.3633 - val_accuracy: 0.5805 - lr: 0.0010\n",
      "Epoch 22/100\n",
      "716/717 [============================>.] - ETA: 0s - loss: 0.9050 - accuracy: 0.6592"
     ]
    },
    {
     "name": "stderr",
     "output_type": "stream",
     "text": [
      "WARNING:absl:Found untraced functions such as _jit_compiled_convolution_op, _jit_compiled_convolution_op, _jit_compiled_convolution_op, _jit_compiled_convolution_op, _jit_compiled_convolution_op while saving (showing 5 of 6). These functions will not be directly callable after loading.\n"
     ]
    },
    {
     "name": "stdout",
     "output_type": "stream",
     "text": [
      "INFO:tensorflow:Assets written to: c://Projects/emotion_detect_project/best_model\\/assets\n"
     ]
    },
    {
     "name": "stderr",
     "output_type": "stream",
     "text": [
      "INFO:tensorflow:Assets written to: c://Projects/emotion_detect_project/best_model\\/assets\n"
     ]
    },
    {
     "name": "stdout",
     "output_type": "stream",
     "text": [
      "717/717 [==============================] - 18s 25ms/step - loss: 0.9051 - accuracy: 0.6594 - val_loss: 1.3293 - val_accuracy: 0.5779 - lr: 0.0010\n",
      "Epoch 23/100\n",
      "717/717 [==============================] - ETA: 0s - loss: 0.8781 - accuracy: 0.6679"
     ]
    },
    {
     "name": "stderr",
     "output_type": "stream",
     "text": [
      "WARNING:absl:Found untraced functions such as _jit_compiled_convolution_op, _jit_compiled_convolution_op, _jit_compiled_convolution_op, _jit_compiled_convolution_op, _jit_compiled_convolution_op while saving (showing 5 of 6). These functions will not be directly callable after loading.\n"
     ]
    },
    {
     "name": "stdout",
     "output_type": "stream",
     "text": [
      "INFO:tensorflow:Assets written to: c://Projects/emotion_detect_project/best_model\\/assets\n"
     ]
    },
    {
     "name": "stderr",
     "output_type": "stream",
     "text": [
      "INFO:tensorflow:Assets written to: c://Projects/emotion_detect_project/best_model\\/assets\n"
     ]
    },
    {
     "name": "stdout",
     "output_type": "stream",
     "text": [
      "717/717 [==============================] - 18s 25ms/step - loss: 0.8781 - accuracy: 0.6679 - val_loss: 1.3352 - val_accuracy: 0.5850 - lr: 0.0010\n",
      "Epoch 24/100\n",
      "715/717 [============================>.] - ETA: 0s - loss: 0.8306 - accuracy: 0.6871"
     ]
    },
    {
     "name": "stderr",
     "output_type": "stream",
     "text": [
      "WARNING:absl:Found untraced functions such as _jit_compiled_convolution_op, _jit_compiled_convolution_op, _jit_compiled_convolution_op, _jit_compiled_convolution_op, _jit_compiled_convolution_op while saving (showing 5 of 6). These functions will not be directly callable after loading.\n"
     ]
    },
    {
     "name": "stdout",
     "output_type": "stream",
     "text": [
      "INFO:tensorflow:Assets written to: c://Projects/emotion_detect_project/best_model\\/assets\n"
     ]
    },
    {
     "name": "stderr",
     "output_type": "stream",
     "text": [
      "INFO:tensorflow:Assets written to: c://Projects/emotion_detect_project/best_model\\/assets\n"
     ]
    },
    {
     "name": "stdout",
     "output_type": "stream",
     "text": [
      "717/717 [==============================] - 18s 25ms/step - loss: 0.8312 - accuracy: 0.6869 - val_loss: 1.4787 - val_accuracy: 0.5744 - lr: 0.0010\n",
      "Epoch 25/100\n",
      "717/717 [==============================] - ETA: 0s - loss: 0.8004 - accuracy: 0.7023"
     ]
    },
    {
     "name": "stderr",
     "output_type": "stream",
     "text": [
      "WARNING:absl:Found untraced functions such as _jit_compiled_convolution_op, _jit_compiled_convolution_op, _jit_compiled_convolution_op, _jit_compiled_convolution_op, _jit_compiled_convolution_op while saving (showing 5 of 6). These functions will not be directly callable after loading.\n"
     ]
    },
    {
     "name": "stdout",
     "output_type": "stream",
     "text": [
      "INFO:tensorflow:Assets written to: c://Projects/emotion_detect_project/best_model\\/assets\n"
     ]
    },
    {
     "name": "stderr",
     "output_type": "stream",
     "text": [
      "INFO:tensorflow:Assets written to: c://Projects/emotion_detect_project/best_model\\/assets\n"
     ]
    },
    {
     "name": "stdout",
     "output_type": "stream",
     "text": [
      "717/717 [==============================] - 18s 25ms/step - loss: 0.8004 - accuracy: 0.7023 - val_loss: 1.3463 - val_accuracy: 0.5801 - lr: 0.0010\n",
      "Epoch 26/100\n",
      "714/717 [============================>.] - ETA: 0s - loss: 0.7542 - accuracy: 0.7129"
     ]
    },
    {
     "name": "stderr",
     "output_type": "stream",
     "text": [
      "WARNING:absl:Found untraced functions such as _jit_compiled_convolution_op, _jit_compiled_convolution_op, _jit_compiled_convolution_op, _jit_compiled_convolution_op, _jit_compiled_convolution_op while saving (showing 5 of 6). These functions will not be directly callable after loading.\n"
     ]
    },
    {
     "name": "stdout",
     "output_type": "stream",
     "text": [
      "INFO:tensorflow:Assets written to: c://Projects/emotion_detect_project/best_model\\/assets\n"
     ]
    },
    {
     "name": "stderr",
     "output_type": "stream",
     "text": [
      "INFO:tensorflow:Assets written to: c://Projects/emotion_detect_project/best_model\\/assets\n"
     ]
    },
    {
     "name": "stdout",
     "output_type": "stream",
     "text": [
      "717/717 [==============================] - 18s 25ms/step - loss: 0.7549 - accuracy: 0.7126 - val_loss: 1.4749 - val_accuracy: 0.5766 - lr: 0.0010\n",
      "Epoch 27/100\n",
      "715/717 [============================>.] - ETA: 0s - loss: 0.7244 - accuracy: 0.7303"
     ]
    },
    {
     "name": "stderr",
     "output_type": "stream",
     "text": [
      "WARNING:absl:Found untraced functions such as _jit_compiled_convolution_op, _jit_compiled_convolution_op, _jit_compiled_convolution_op, _jit_compiled_convolution_op, _jit_compiled_convolution_op while saving (showing 5 of 6). These functions will not be directly callable after loading.\n"
     ]
    },
    {
     "name": "stdout",
     "output_type": "stream",
     "text": [
      "INFO:tensorflow:Assets written to: c://Projects/emotion_detect_project/best_model\\/assets\n"
     ]
    },
    {
     "name": "stderr",
     "output_type": "stream",
     "text": [
      "INFO:tensorflow:Assets written to: c://Projects/emotion_detect_project/best_model\\/assets\n"
     ]
    },
    {
     "name": "stdout",
     "output_type": "stream",
     "text": [
      "717/717 [==============================] - 17s 24ms/step - loss: 0.7244 - accuracy: 0.7303 - val_loss: 1.3542 - val_accuracy: 0.5934 - lr: 0.0010\n",
      "Epoch 28/100\n",
      "716/717 [============================>.] - ETA: 0s - loss: 0.6857 - accuracy: 0.7431"
     ]
    },
    {
     "name": "stderr",
     "output_type": "stream",
     "text": [
      "WARNING:absl:Found untraced functions such as _jit_compiled_convolution_op, _jit_compiled_convolution_op, _jit_compiled_convolution_op, _jit_compiled_convolution_op, _jit_compiled_convolution_op while saving (showing 5 of 6). These functions will not be directly callable after loading.\n"
     ]
    },
    {
     "name": "stdout",
     "output_type": "stream",
     "text": [
      "INFO:tensorflow:Assets written to: c://Projects/emotion_detect_project/best_model\\/assets\n"
     ]
    },
    {
     "name": "stderr",
     "output_type": "stream",
     "text": [
      "INFO:tensorflow:Assets written to: c://Projects/emotion_detect_project/best_model\\/assets\n"
     ]
    },
    {
     "name": "stdout",
     "output_type": "stream",
     "text": [
      "717/717 [==============================] - 18s 25ms/step - loss: 0.6856 - accuracy: 0.7431 - val_loss: 1.5314 - val_accuracy: 0.5834 - lr: 0.0010\n",
      "Epoch 29/100\n",
      "714/717 [============================>.] - ETA: 0s - loss: 0.5830 - accuracy: 0.7797"
     ]
    },
    {
     "name": "stderr",
     "output_type": "stream",
     "text": [
      "WARNING:absl:Found untraced functions such as _jit_compiled_convolution_op, _jit_compiled_convolution_op, _jit_compiled_convolution_op, _jit_compiled_convolution_op, _jit_compiled_convolution_op while saving (showing 5 of 6). These functions will not be directly callable after loading.\n"
     ]
    },
    {
     "name": "stdout",
     "output_type": "stream",
     "text": [
      "INFO:tensorflow:Assets written to: c://Projects/emotion_detect_project/best_model\\/assets\n"
     ]
    },
    {
     "name": "stderr",
     "output_type": "stream",
     "text": [
      "INFO:tensorflow:Assets written to: c://Projects/emotion_detect_project/best_model\\/assets\n"
     ]
    },
    {
     "name": "stdout",
     "output_type": "stream",
     "text": [
      "717/717 [==============================] - 18s 25ms/step - loss: 0.5831 - accuracy: 0.7798 - val_loss: 1.5118 - val_accuracy: 0.6020 - lr: 2.0000e-04\n",
      "Epoch 30/100\n",
      "716/717 [============================>.] - ETA: 0s - loss: 0.5324 - accuracy: 0.7988"
     ]
    },
    {
     "name": "stderr",
     "output_type": "stream",
     "text": [
      "WARNING:absl:Found untraced functions such as _jit_compiled_convolution_op, _jit_compiled_convolution_op, _jit_compiled_convolution_op, _jit_compiled_convolution_op, _jit_compiled_convolution_op while saving (showing 5 of 6). These functions will not be directly callable after loading.\n"
     ]
    },
    {
     "name": "stdout",
     "output_type": "stream",
     "text": [
      "INFO:tensorflow:Assets written to: c://Projects/emotion_detect_project/best_model\\/assets\n"
     ]
    },
    {
     "name": "stderr",
     "output_type": "stream",
     "text": [
      "INFO:tensorflow:Assets written to: c://Projects/emotion_detect_project/best_model\\/assets\n"
     ]
    },
    {
     "name": "stdout",
     "output_type": "stream",
     "text": [
      "717/717 [==============================] - 18s 25ms/step - loss: 0.5321 - accuracy: 0.7989 - val_loss: 1.4806 - val_accuracy: 0.6100 - lr: 2.0000e-04\n",
      "Epoch 31/100\n",
      "715/717 [============================>.] - ETA: 0s - loss: 0.4913 - accuracy: 0.8178"
     ]
    },
    {
     "name": "stderr",
     "output_type": "stream",
     "text": [
      "WARNING:absl:Found untraced functions such as _jit_compiled_convolution_op, _jit_compiled_convolution_op, _jit_compiled_convolution_op, _jit_compiled_convolution_op, _jit_compiled_convolution_op while saving (showing 5 of 6). These functions will not be directly callable after loading.\n"
     ]
    },
    {
     "name": "stdout",
     "output_type": "stream",
     "text": [
      "INFO:tensorflow:Assets written to: c://Projects/emotion_detect_project/best_model\\/assets\n"
     ]
    },
    {
     "name": "stderr",
     "output_type": "stream",
     "text": [
      "INFO:tensorflow:Assets written to: c://Projects/emotion_detect_project/best_model\\/assets\n"
     ]
    },
    {
     "name": "stdout",
     "output_type": "stream",
     "text": [
      "717/717 [==============================] - 17s 24ms/step - loss: 0.4914 - accuracy: 0.8178 - val_loss: 1.6274 - val_accuracy: 0.6102 - lr: 2.0000e-04\n",
      "Epoch 32/100\n",
      "715/717 [============================>.] - ETA: 0s - loss: 0.4684 - accuracy: 0.8272"
     ]
    },
    {
     "name": "stderr",
     "output_type": "stream",
     "text": [
      "WARNING:absl:Found untraced functions such as _jit_compiled_convolution_op, _jit_compiled_convolution_op, _jit_compiled_convolution_op, _jit_compiled_convolution_op, _jit_compiled_convolution_op while saving (showing 5 of 6). These functions will not be directly callable after loading.\n"
     ]
    },
    {
     "name": "stdout",
     "output_type": "stream",
     "text": [
      "INFO:tensorflow:Assets written to: c://Projects/emotion_detect_project/best_model\\/assets\n"
     ]
    },
    {
     "name": "stderr",
     "output_type": "stream",
     "text": [
      "INFO:tensorflow:Assets written to: c://Projects/emotion_detect_project/best_model\\/assets\n"
     ]
    },
    {
     "name": "stdout",
     "output_type": "stream",
     "text": [
      "717/717 [==============================] - 18s 25ms/step - loss: 0.4679 - accuracy: 0.8273 - val_loss: 1.6485 - val_accuracy: 0.6100 - lr: 2.0000e-04\n",
      "Epoch 33/100\n",
      "716/717 [============================>.] - ETA: 0s - loss: 0.4503 - accuracy: 0.8318"
     ]
    },
    {
     "name": "stderr",
     "output_type": "stream",
     "text": [
      "WARNING:absl:Found untraced functions such as _jit_compiled_convolution_op, _jit_compiled_convolution_op, _jit_compiled_convolution_op, _jit_compiled_convolution_op, _jit_compiled_convolution_op while saving (showing 5 of 6). These functions will not be directly callable after loading.\n"
     ]
    },
    {
     "name": "stdout",
     "output_type": "stream",
     "text": [
      "INFO:tensorflow:Assets written to: c://Projects/emotion_detect_project/best_model\\/assets\n"
     ]
    },
    {
     "name": "stderr",
     "output_type": "stream",
     "text": [
      "INFO:tensorflow:Assets written to: c://Projects/emotion_detect_project/best_model\\/assets\n"
     ]
    },
    {
     "name": "stdout",
     "output_type": "stream",
     "text": [
      "717/717 [==============================] - 18s 24ms/step - loss: 0.4505 - accuracy: 0.8317 - val_loss: 1.6374 - val_accuracy: 0.6091 - lr: 2.0000e-04\n",
      "Epoch 34/100\n",
      "717/717 [==============================] - ETA: 0s - loss: 0.4259 - accuracy: 0.8392"
     ]
    },
    {
     "name": "stderr",
     "output_type": "stream",
     "text": [
      "WARNING:absl:Found untraced functions such as _jit_compiled_convolution_op, _jit_compiled_convolution_op, _jit_compiled_convolution_op, _jit_compiled_convolution_op, _jit_compiled_convolution_op while saving (showing 5 of 6). These functions will not be directly callable after loading.\n"
     ]
    },
    {
     "name": "stdout",
     "output_type": "stream",
     "text": [
      "INFO:tensorflow:Assets written to: c://Projects/emotion_detect_project/best_model\\/assets\n"
     ]
    },
    {
     "name": "stderr",
     "output_type": "stream",
     "text": [
      "INFO:tensorflow:Assets written to: c://Projects/emotion_detect_project/best_model\\/assets\n"
     ]
    },
    {
     "name": "stdout",
     "output_type": "stream",
     "text": [
      "717/717 [==============================] - 18s 25ms/step - loss: 0.4259 - accuracy: 0.8392 - val_loss: 1.6802 - val_accuracy: 0.6114 - lr: 2.0000e-04\n",
      "Epoch 35/100\n",
      "716/717 [============================>.] - ETA: 0s - loss: 0.4057 - accuracy: 0.8475"
     ]
    },
    {
     "name": "stderr",
     "output_type": "stream",
     "text": [
      "WARNING:absl:Found untraced functions such as _jit_compiled_convolution_op, _jit_compiled_convolution_op, _jit_compiled_convolution_op, _jit_compiled_convolution_op, _jit_compiled_convolution_op while saving (showing 5 of 6). These functions will not be directly callable after loading.\n"
     ]
    },
    {
     "name": "stdout",
     "output_type": "stream",
     "text": [
      "INFO:tensorflow:Assets written to: c://Projects/emotion_detect_project/best_model\\/assets\n"
     ]
    },
    {
     "name": "stderr",
     "output_type": "stream",
     "text": [
      "INFO:tensorflow:Assets written to: c://Projects/emotion_detect_project/best_model\\/assets\n"
     ]
    },
    {
     "name": "stdout",
     "output_type": "stream",
     "text": [
      "717/717 [==============================] - 18s 25ms/step - loss: 0.4057 - accuracy: 0.8474 - val_loss: 1.8434 - val_accuracy: 0.6152 - lr: 2.0000e-04\n",
      "Epoch 36/100\n",
      "717/717 [==============================] - ETA: 0s - loss: 0.3855 - accuracy: 0.8563"
     ]
    },
    {
     "name": "stderr",
     "output_type": "stream",
     "text": [
      "WARNING:absl:Found untraced functions such as _jit_compiled_convolution_op, _jit_compiled_convolution_op, _jit_compiled_convolution_op, _jit_compiled_convolution_op, _jit_compiled_convolution_op while saving (showing 5 of 6). These functions will not be directly callable after loading.\n"
     ]
    },
    {
     "name": "stdout",
     "output_type": "stream",
     "text": [
      "INFO:tensorflow:Assets written to: c://Projects/emotion_detect_project/best_model\\/assets\n"
     ]
    },
    {
     "name": "stderr",
     "output_type": "stream",
     "text": [
      "INFO:tensorflow:Assets written to: c://Projects/emotion_detect_project/best_model\\/assets\n"
     ]
    },
    {
     "name": "stdout",
     "output_type": "stream",
     "text": [
      "717/717 [==============================] - 18s 25ms/step - loss: 0.3855 - accuracy: 0.8563 - val_loss: 1.8309 - val_accuracy: 0.6117 - lr: 2.0000e-04\n",
      "Epoch 37/100\n",
      "715/717 [============================>.] - ETA: 0s - loss: 0.3700 - accuracy: 0.8648"
     ]
    },
    {
     "name": "stderr",
     "output_type": "stream",
     "text": [
      "WARNING:absl:Found untraced functions such as _jit_compiled_convolution_op, _jit_compiled_convolution_op, _jit_compiled_convolution_op, _jit_compiled_convolution_op, _jit_compiled_convolution_op while saving (showing 5 of 6). These functions will not be directly callable after loading.\n"
     ]
    },
    {
     "name": "stdout",
     "output_type": "stream",
     "text": [
      "INFO:tensorflow:Assets written to: c://Projects/emotion_detect_project/best_model\\/assets\n"
     ]
    },
    {
     "name": "stderr",
     "output_type": "stream",
     "text": [
      "INFO:tensorflow:Assets written to: c://Projects/emotion_detect_project/best_model\\/assets\n"
     ]
    },
    {
     "name": "stdout",
     "output_type": "stream",
     "text": [
      "717/717 [==============================] - 18s 24ms/step - loss: 0.3698 - accuracy: 0.8648 - val_loss: 1.8822 - val_accuracy: 0.6081 - lr: 2.0000e-04\n",
      "Epoch 38/100\n",
      "715/717 [============================>.] - ETA: 0s - loss: 0.3445 - accuracy: 0.8693"
     ]
    },
    {
     "name": "stderr",
     "output_type": "stream",
     "text": [
      "WARNING:absl:Found untraced functions such as _jit_compiled_convolution_op, _jit_compiled_convolution_op, _jit_compiled_convolution_op, _jit_compiled_convolution_op, _jit_compiled_convolution_op while saving (showing 5 of 6). These functions will not be directly callable after loading.\n"
     ]
    },
    {
     "name": "stdout",
     "output_type": "stream",
     "text": [
      "INFO:tensorflow:Assets written to: c://Projects/emotion_detect_project/best_model\\/assets\n"
     ]
    },
    {
     "name": "stderr",
     "output_type": "stream",
     "text": [
      "INFO:tensorflow:Assets written to: c://Projects/emotion_detect_project/best_model\\/assets\n"
     ]
    },
    {
     "name": "stdout",
     "output_type": "stream",
     "text": [
      "717/717 [==============================] - 18s 25ms/step - loss: 0.3445 - accuracy: 0.8692 - val_loss: 1.9224 - val_accuracy: 0.6082 - lr: 2.0000e-04\n",
      "Epoch 39/100\n",
      "717/717 [==============================] - ETA: 0s - loss: 0.3127 - accuracy: 0.8833"
     ]
    },
    {
     "name": "stderr",
     "output_type": "stream",
     "text": [
      "WARNING:absl:Found untraced functions such as _jit_compiled_convolution_op, _jit_compiled_convolution_op, _jit_compiled_convolution_op, _jit_compiled_convolution_op, _jit_compiled_convolution_op while saving (showing 5 of 6). These functions will not be directly callable after loading.\n"
     ]
    },
    {
     "name": "stdout",
     "output_type": "stream",
     "text": [
      "INFO:tensorflow:Assets written to: c://Projects/emotion_detect_project/best_model\\/assets\n"
     ]
    },
    {
     "name": "stderr",
     "output_type": "stream",
     "text": [
      "INFO:tensorflow:Assets written to: c://Projects/emotion_detect_project/best_model\\/assets\n"
     ]
    },
    {
     "name": "stdout",
     "output_type": "stream",
     "text": [
      "717/717 [==============================] - 18s 25ms/step - loss: 0.3127 - accuracy: 0.8833 - val_loss: 1.9270 - val_accuracy: 0.6110 - lr: 4.0000e-05\n",
      "Epoch 40/100\n",
      "715/717 [============================>.] - ETA: 0s - loss: 0.3133 - accuracy: 0.8837"
     ]
    },
    {
     "name": "stderr",
     "output_type": "stream",
     "text": [
      "WARNING:absl:Found untraced functions such as _jit_compiled_convolution_op, _jit_compiled_convolution_op, _jit_compiled_convolution_op, _jit_compiled_convolution_op, _jit_compiled_convolution_op while saving (showing 5 of 6). These functions will not be directly callable after loading.\n"
     ]
    },
    {
     "name": "stdout",
     "output_type": "stream",
     "text": [
      "INFO:tensorflow:Assets written to: c://Projects/emotion_detect_project/best_model\\/assets\n"
     ]
    },
    {
     "name": "stderr",
     "output_type": "stream",
     "text": [
      "INFO:tensorflow:Assets written to: c://Projects/emotion_detect_project/best_model\\/assets\n"
     ]
    },
    {
     "name": "stdout",
     "output_type": "stream",
     "text": [
      "717/717 [==============================] - 18s 25ms/step - loss: 0.3132 - accuracy: 0.8836 - val_loss: 1.9610 - val_accuracy: 0.6161 - lr: 4.0000e-05\n",
      "Epoch 41/100\n",
      "716/717 [============================>.] - ETA: 0s - loss: 0.3125 - accuracy: 0.8833"
     ]
    },
    {
     "name": "stderr",
     "output_type": "stream",
     "text": [
      "WARNING:absl:Found untraced functions such as _jit_compiled_convolution_op, _jit_compiled_convolution_op, _jit_compiled_convolution_op, _jit_compiled_convolution_op, _jit_compiled_convolution_op while saving (showing 5 of 6). These functions will not be directly callable after loading.\n"
     ]
    },
    {
     "name": "stdout",
     "output_type": "stream",
     "text": [
      "INFO:tensorflow:Assets written to: c://Projects/emotion_detect_project/best_model\\/assets\n"
     ]
    },
    {
     "name": "stderr",
     "output_type": "stream",
     "text": [
      "INFO:tensorflow:Assets written to: c://Projects/emotion_detect_project/best_model\\/assets\n"
     ]
    },
    {
     "name": "stdout",
     "output_type": "stream",
     "text": [
      "717/717 [==============================] - 18s 25ms/step - loss: 0.3124 - accuracy: 0.8833 - val_loss: 1.9969 - val_accuracy: 0.6128 - lr: 4.0000e-05\n",
      "Epoch 42/100\n",
      "715/717 [============================>.] - ETA: 0s - loss: 0.2928 - accuracy: 0.8916"
     ]
    },
    {
     "name": "stderr",
     "output_type": "stream",
     "text": [
      "WARNING:absl:Found untraced functions such as _jit_compiled_convolution_op, _jit_compiled_convolution_op, _jit_compiled_convolution_op, _jit_compiled_convolution_op, _jit_compiled_convolution_op while saving (showing 5 of 6). These functions will not be directly callable after loading.\n"
     ]
    },
    {
     "name": "stdout",
     "output_type": "stream",
     "text": [
      "INFO:tensorflow:Assets written to: c://Projects/emotion_detect_project/best_model\\/assets\n"
     ]
    },
    {
     "name": "stderr",
     "output_type": "stream",
     "text": [
      "INFO:tensorflow:Assets written to: c://Projects/emotion_detect_project/best_model\\/assets\n"
     ]
    },
    {
     "name": "stdout",
     "output_type": "stream",
     "text": [
      "717/717 [==============================] - 18s 25ms/step - loss: 0.2925 - accuracy: 0.8917 - val_loss: 1.9908 - val_accuracy: 0.6126 - lr: 4.0000e-05\n",
      "Epoch 43/100\n",
      "716/717 [============================>.] - ETA: 0s - loss: 0.2906 - accuracy: 0.8935"
     ]
    },
    {
     "name": "stderr",
     "output_type": "stream",
     "text": [
      "WARNING:absl:Found untraced functions such as _jit_compiled_convolution_op, _jit_compiled_convolution_op, _jit_compiled_convolution_op, _jit_compiled_convolution_op, _jit_compiled_convolution_op while saving (showing 5 of 6). These functions will not be directly callable after loading.\n"
     ]
    },
    {
     "name": "stdout",
     "output_type": "stream",
     "text": [
      "INFO:tensorflow:Assets written to: c://Projects/emotion_detect_project/best_model\\/assets\n"
     ]
    },
    {
     "name": "stderr",
     "output_type": "stream",
     "text": [
      "INFO:tensorflow:Assets written to: c://Projects/emotion_detect_project/best_model\\/assets\n"
     ]
    },
    {
     "name": "stdout",
     "output_type": "stream",
     "text": [
      "717/717 [==============================] - 18s 25ms/step - loss: 0.2904 - accuracy: 0.8936 - val_loss: 2.0290 - val_accuracy: 0.6149 - lr: 4.0000e-05\n",
      "Epoch 44/100\n",
      "715/717 [============================>.] - ETA: 0s - loss: 0.2851 - accuracy: 0.8931"
     ]
    },
    {
     "name": "stderr",
     "output_type": "stream",
     "text": [
      "WARNING:absl:Found untraced functions such as _jit_compiled_convolution_op, _jit_compiled_convolution_op, _jit_compiled_convolution_op, _jit_compiled_convolution_op, _jit_compiled_convolution_op while saving (showing 5 of 6). These functions will not be directly callable after loading.\n"
     ]
    },
    {
     "name": "stdout",
     "output_type": "stream",
     "text": [
      "INFO:tensorflow:Assets written to: c://Projects/emotion_detect_project/best_model\\/assets\n"
     ]
    },
    {
     "name": "stderr",
     "output_type": "stream",
     "text": [
      "INFO:tensorflow:Assets written to: c://Projects/emotion_detect_project/best_model\\/assets\n"
     ]
    },
    {
     "name": "stdout",
     "output_type": "stream",
     "text": [
      "717/717 [==============================] - 18s 25ms/step - loss: 0.2851 - accuracy: 0.8931 - val_loss: 2.0272 - val_accuracy: 0.6140 - lr: 4.0000e-05\n",
      "Epoch 45/100\n",
      "715/717 [============================>.] - ETA: 0s - loss: 0.2846 - accuracy: 0.8941"
     ]
    },
    {
     "name": "stderr",
     "output_type": "stream",
     "text": [
      "WARNING:absl:Found untraced functions such as _jit_compiled_convolution_op, _jit_compiled_convolution_op, _jit_compiled_convolution_op, _jit_compiled_convolution_op, _jit_compiled_convolution_op while saving (showing 5 of 6). These functions will not be directly callable after loading.\n"
     ]
    },
    {
     "name": "stdout",
     "output_type": "stream",
     "text": [
      "INFO:tensorflow:Assets written to: c://Projects/emotion_detect_project/best_model\\/assets\n"
     ]
    },
    {
     "name": "stderr",
     "output_type": "stream",
     "text": [
      "INFO:tensorflow:Assets written to: c://Projects/emotion_detect_project/best_model\\/assets\n"
     ]
    },
    {
     "name": "stdout",
     "output_type": "stream",
     "text": [
      "717/717 [==============================] - 18s 25ms/step - loss: 0.2842 - accuracy: 0.8942 - val_loss: 2.0745 - val_accuracy: 0.6105 - lr: 4.0000e-05\n",
      "Epoch 46/100\n",
      "717/717 [==============================] - ETA: 0s - loss: 0.2731 - accuracy: 0.8984"
     ]
    },
    {
     "name": "stderr",
     "output_type": "stream",
     "text": [
      "WARNING:absl:Found untraced functions such as _jit_compiled_convolution_op, _jit_compiled_convolution_op, _jit_compiled_convolution_op, _jit_compiled_convolution_op, _jit_compiled_convolution_op while saving (showing 5 of 6). These functions will not be directly callable after loading.\n"
     ]
    },
    {
     "name": "stdout",
     "output_type": "stream",
     "text": [
      "INFO:tensorflow:Assets written to: c://Projects/emotion_detect_project/best_model\\/assets\n"
     ]
    },
    {
     "name": "stderr",
     "output_type": "stream",
     "text": [
      "INFO:tensorflow:Assets written to: c://Projects/emotion_detect_project/best_model\\/assets\n"
     ]
    },
    {
     "name": "stdout",
     "output_type": "stream",
     "text": [
      "717/717 [==============================] - 18s 25ms/step - loss: 0.2731 - accuracy: 0.8984 - val_loss: 2.0612 - val_accuracy: 0.6133 - lr: 4.0000e-05\n",
      "Epoch 47/100\n",
      "715/717 [============================>.] - ETA: 0s - loss: 0.2692 - accuracy: 0.8982"
     ]
    },
    {
     "name": "stderr",
     "output_type": "stream",
     "text": [
      "WARNING:absl:Found untraced functions such as _jit_compiled_convolution_op, _jit_compiled_convolution_op, _jit_compiled_convolution_op, _jit_compiled_convolution_op, _jit_compiled_convolution_op while saving (showing 5 of 6). These functions will not be directly callable after loading.\n"
     ]
    },
    {
     "name": "stdout",
     "output_type": "stream",
     "text": [
      "INFO:tensorflow:Assets written to: c://Projects/emotion_detect_project/best_model\\/assets\n"
     ]
    },
    {
     "name": "stderr",
     "output_type": "stream",
     "text": [
      "INFO:tensorflow:Assets written to: c://Projects/emotion_detect_project/best_model\\/assets\n"
     ]
    },
    {
     "name": "stdout",
     "output_type": "stream",
     "text": [
      "717/717 [==============================] - 18s 25ms/step - loss: 0.2691 - accuracy: 0.8982 - val_loss: 2.0844 - val_accuracy: 0.6133 - lr: 4.0000e-05\n",
      "Epoch 48/100\n",
      "715/717 [============================>.] - ETA: 0s - loss: 0.2658 - accuracy: 0.8990"
     ]
    },
    {
     "name": "stderr",
     "output_type": "stream",
     "text": [
      "WARNING:absl:Found untraced functions such as _jit_compiled_convolution_op, _jit_compiled_convolution_op, _jit_compiled_convolution_op, _jit_compiled_convolution_op, _jit_compiled_convolution_op while saving (showing 5 of 6). These functions will not be directly callable after loading.\n"
     ]
    },
    {
     "name": "stdout",
     "output_type": "stream",
     "text": [
      "INFO:tensorflow:Assets written to: c://Projects/emotion_detect_project/best_model\\/assets\n"
     ]
    },
    {
     "name": "stderr",
     "output_type": "stream",
     "text": [
      "INFO:tensorflow:Assets written to: c://Projects/emotion_detect_project/best_model\\/assets\n"
     ]
    },
    {
     "name": "stdout",
     "output_type": "stream",
     "text": [
      "717/717 [==============================] - 19s 26ms/step - loss: 0.2660 - accuracy: 0.8990 - val_loss: 2.1020 - val_accuracy: 0.6138 - lr: 4.0000e-05\n"
     ]
    }
   ],
   "source": [
    "emotion_model_info = model.fit(\n",
    "    train_generator,\n",
    "    steps_per_epoch = train_generator.n // BATCH_SIZE,\n",
    "    epochs = 100,\n",
    "    validation_data = valid_generator,\n",
    "    validation_steps = valid_generator.n // BATCH_SIZE,\n",
    "    callbacks=[checkpoint, earlystopping, reduce_lr]\n",
    ")"
   ]
  },
  {
   "cell_type": "code",
   "execution_count": 21,
   "id": "055c69cf-82c1-4529-bfec-0a385d435c88",
   "metadata": {},
   "outputs": [
    {
     "name": "stdout",
     "output_type": "stream",
     "text": [
      "112/112 [==============================] - 28s 255ms/step - loss: 1.1204 - accuracy: 0.5751\n",
      "accuracy: 57.51%\n",
      "loss: 1.12\n"
     ]
    }
   ],
   "source": [
    "test_loss, test_accuracy = model.evaluate(test_generator, batch_size = BATCH_SIZE, steps= test_generator.n//BATCH_SIZE)\n",
    "print(f\"accuracy: {test_accuracy*100:.2f}%\")\n",
    "print(f\"loss: {test_loss:.2f}\")"
   ]
  },
  {
   "cell_type": "code",
   "execution_count": 22,
   "id": "ce5b1e69-eaed-4aa0-be4f-9f1876649dec",
   "metadata": {},
   "outputs": [
    {
     "name": "stdout",
     "output_type": "stream",
     "text": [
      "113/113 [==============================] - 4s 33ms/step\n"
     ]
    }
   ],
   "source": [
    "predictions = model.predict(test_generator)\n",
    "predicted_classes = np.argmax(predictions, axis=1)"
   ]
  },
  {
   "cell_type": "code",
   "execution_count": 21,
   "id": "d2e67940-ea1a-4bbb-b093-1c76f747d202",
   "metadata": {},
   "outputs": [],
   "source": [
    "true_classes = test_generator.classes\n",
    "class_labels = list(test_generator.class_indices.keys())"
   ]
  },
  {
   "cell_type": "code",
   "execution_count": 22,
   "id": "bca9f737-36d0-4ce0-a32f-a279ff1c7bc4",
   "metadata": {},
   "outputs": [
    {
     "name": "stdout",
     "output_type": "stream",
     "text": [
      "              precision    recall  f1-score   support\n",
      "\n",
      "       angry       0.12      0.10      0.11       958\n",
      "     disgust       0.03      0.02      0.02       111\n",
      "        fear       0.14      0.12      0.13      1024\n",
      "       happy       0.25      0.31      0.28      1774\n",
      "     neutral       0.18      0.21      0.19      1233\n",
      "         sad       0.17      0.13      0.15      1247\n",
      "    surprise       0.12      0.12      0.12       831\n",
      "\n",
      "    accuracy                           0.18      7178\n",
      "   macro avg       0.14      0.14      0.14      7178\n",
      "weighted avg       0.17      0.18      0.17      7178\n",
      "\n"
     ]
    }
   ],
   "source": [
    "from sklearn.metrics import classification_report\n",
    "report = classification_report(true_classes, predicted_classes, target_names=class_labels)\n",
    "print(report)"
   ]
  },
  {
   "cell_type": "code",
   "execution_count": null,
   "id": "7aa75ca1-61c7-4d8b-bb34-0d9eae63e3c5",
   "metadata": {},
   "outputs": [],
   "source": []
  }
 ],
 "metadata": {
  "kernelspec": {
   "display_name": "Python 3 (ipykernel)",
   "language": "python",
   "name": "python3"
  },
  "language_info": {
   "codemirror_mode": {
    "name": "ipython",
    "version": 3
   },
   "file_extension": ".py",
   "mimetype": "text/x-python",
   "name": "python",
   "nbconvert_exporter": "python",
   "pygments_lexer": "ipython3",
   "version": "3.10.14"
  }
 },
 "nbformat": 4,
 "nbformat_minor": 5
}
