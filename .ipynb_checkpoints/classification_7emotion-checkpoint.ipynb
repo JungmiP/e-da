{
 "cells": [
  {
   "cell_type": "code",
   "execution_count": 1,
   "id": "fb3651bd-8c96-46ab-ac6e-8fdb6b15dda1",
   "metadata": {},
   "outputs": [],
   "source": [
    "import warnings\n",
    "warnings.filterwarnings('ignore')\n",
    "import numpy as np\n",
    "import pandas as pd\n",
    "import matplotlib.pyplot as plt\n",
    "\n",
    "import keras\n",
    "from keras.utils import to_categorical\n",
    "\n",
    "import cv2\n",
    "from scipy.ndimage import zoom\n",
    "\n",
    "from keras.models import Sequential\n",
    "from keras.layers import Conv2D, MaxPooling2D, Dense, Dropout, Activation, Flatten, BatchNormalization\n",
    "from keras.optimizers import Adam\n",
    "from keras.models import Model\n",
    "from keras.preprocessing.image import ImageDataGenerator"
   ]
  },
  {
   "cell_type": "code",
   "execution_count": 2,
   "id": "88e4ae12-cc88-45ef-a9b4-57a93fde7a80",
   "metadata": {},
   "outputs": [
    {
     "data": {
      "text/plain": [
       "True"
      ]
     },
     "execution_count": 2,
     "metadata": {},
     "output_type": "execute_result"
    }
   ],
   "source": [
    "import torch\n",
    "torch.cuda.is_available()"
   ]
  },
  {
   "cell_type": "code",
   "execution_count": 3,
   "id": "3909124e-814e-4a09-b7f2-ff3a5017026b",
   "metadata": {},
   "outputs": [
    {
     "name": "stdout",
     "output_type": "stream",
     "text": [
      "[[[ 23  23  23]\n",
      "  [ 52  52  52]\n",
      "  [ 54  54  54]\n",
      "  ...\n",
      "  [173 173 173]\n",
      "  [ 98  98  98]\n",
      "  [ 42  42  42]]\n",
      "\n",
      " [[ 23  23  23]\n",
      "  [ 48  48  48]\n",
      "  [ 53  53  53]\n",
      "  ...\n",
      "  [174 174 174]\n",
      "  [104 104 104]\n",
      "  [ 34  34  34]]\n",
      "\n",
      " [[ 30  30  30]\n",
      "  [ 50  50  50]\n",
      "  [ 55  55  55]\n",
      "  ...\n",
      "  [175 175 175]\n",
      "  [113 113 113]\n",
      "  [ 36  36  36]]\n",
      "\n",
      " ...\n",
      "\n",
      " [[ 31  31  31]\n",
      "  [ 28  28  28]\n",
      "  [ 29  29  29]\n",
      "  ...\n",
      "  [ 54  54  54]\n",
      "  [ 80  80  80]\n",
      "  [101 101 101]]\n",
      "\n",
      " [[ 31  31  31]\n",
      "  [ 29  29  29]\n",
      "  [ 30  30  30]\n",
      "  ...\n",
      "  [ 55  55  55]\n",
      "  [ 80  80  80]\n",
      "  [ 96  96  96]]\n",
      "\n",
      " [[ 29  29  29]\n",
      "  [ 31  31  31]\n",
      "  [ 28  28  28]\n",
      "  ...\n",
      "  [ 59  59  59]\n",
      "  [ 79  79  79]\n",
      "  [ 89  89  89]]]\n"
     ]
    }
   ],
   "source": [
    "cv2_image = cv2.imread(\"./FER-2013/train/angry/Training_992349.jpg\")\n",
    "print(cv2_image)"
   ]
  },
  {
   "cell_type": "code",
   "execution_count": 4,
   "id": "9e4ee0a7-9778-484a-99c8-032386edfb60",
   "metadata": {},
   "outputs": [
    {
     "data": {
      "text/plain": [
       "<matplotlib.image.AxesImage at 0x25830b586d0>"
      ]
     },
     "execution_count": 4,
     "metadata": {},
     "output_type": "execute_result"
    },
    {
     "data": {
      "image/png": "[encoded data removed]",
      "text/plain": [
       "<Figure size 640x480 with 1 Axes>"
      ]
     },
     "metadata": {},
     "output_type": "display_data"
    }
   ],
   "source": [
    "plt.imshow(cv2_image)"
   ]
  },
  {
   "cell_type": "code",
   "execution_count": 5,
   "id": "dfc8f033-3279-4fee-a150-b4cd1c1d3b04",
   "metadata": {},
   "outputs": [],
   "source": [
    "train_data_gen = ImageDataGenerator(rescale=1./255, validation_split=0.2)\n",
    "test_data_gen = ImageDataGenerator(rescale=1./255)"
   ]
  },
  {
   "cell_type": "code",
   "execution_count": 6,
   "id": "b4fcd7b3-bb11-4d33-88c5-80a57fe09e79",
   "metadata": {},
   "outputs": [],
   "source": [
    "BATCH_SIZE = 64"
   ]
  },
  {
   "cell_type": "code",
   "execution_count": 7,
   "id": "95aa53a7-fc95-4fdf-a4b6-aa04f39c46be",
   "metadata": {},
   "outputs": [
    {
     "name": "stdout",
     "output_type": "stream",
     "text": [
      "Found 22968 images belonging to 7 classes.\n"
     ]
    }
   ],
   "source": [
    "train_generator = train_data_gen.flow_from_directory(\n",
    "    './FER-2013/train',\n",
    "    subset='training',\n",
    "    target_size = (48, 48),\n",
    "    batch_size = BATCH_SIZE,\n",
    "    color_mode = 'grayscale',\n",
    "    class_mode = 'categorical'\n",
    ")"
   ]
  },
  {
   "cell_type": "code",
   "execution_count": 8,
   "id": "e1ac4a62-6a92-4f15-bc85-092a5378fed2",
   "metadata": {},
   "outputs": [
    {
     "name": "stdout",
     "output_type": "stream",
     "text": [
      "Found 5741 images belonging to 7 classes.\n"
     ]
    }
   ],
   "source": [
    "valid_generator = train_data_gen.flow_from_directory(\n",
    "    './FER-2013/train',\n",
    "    subset='validation',\n",
    "    target_size = (48, 48),\n",
    "    batch_size = BATCH_SIZE,\n",
    "    color_mode = 'grayscale',\n",
    "    class_mode = 'categorical'\n",
    ")"
   ]
  },
  {
   "cell_type": "code",
   "execution_count": 9,
   "id": "25dd74ed-c15c-4223-b7a2-5e62ec6bb3df",
   "metadata": {},
   "outputs": [
    {
     "name": "stdout",
     "output_type": "stream",
     "text": [
      "Found 7178 images belonging to 7 classes.\n"
     ]
    }
   ],
   "source": [
    "test_generator = test_data_gen.flow_from_directory(\n",
    "    './FER-2013/test',\n",
    "    target_size = (48, 48),\n",
    "    batch_size = BATCH_SIZE,\n",
    "    color_mode = 'grayscale',\n",
    "    class_mode = 'categorical'\n",
    ")"
   ]
  },
  {
   "cell_type": "code",
   "execution_count": 24,
   "id": "2fe1e029-1bf3-4704-96ae-0ecc4dab1785",
   "metadata": {},
   "outputs": [],
   "source": [
    "model = Sequential()\n",
    "model.add(Conv2D(32, kernel_size=(3,3), activation='relu', input_shape=(48, 48, 1), padding='same'))\n",
    "model.add(Conv2D(64, kernel_size=(3,3), activation='relu'))\n",
    "model.add(BatchNormalization())\n",
    "model.add(MaxPooling2D(pool_size=(2,2)))\n",
    "model.add(Dropout(0.25))\n",
    "\n",
    "model.add(Conv2D(128, kernel_size=(3,3), activation='relu', padding='same'))\n",
    "model.add(MaxPooling2D(pool_size=(2,2)))\n",
    "model.add(Conv2D(256, kernel_size=(3,3), activation='relu'))\n",
    "model.add(BatchNormalization())\n",
    "model.add(MaxPooling2D(pool_size=(2,2)))\n",
    "model.add(Dropout(0.25))\n",
    "\n",
    "# model.add(Conv2D(512, kernel_size=(3,3), activation='relu', padding='same'))\n",
    "# model.add(MaxPooling2D(pool_size=(2,2)))\n",
    "# model.add(Conv2D(512, kernel_size=(3,3), activation='relu', padding='same'))\n",
    "# model.add(BatchNormalization())\n",
    "# model.add(MaxPooling2D(pool_size=(2,2)))\n",
    "# model.add(Dropout(0.25))\n",
    "\n",
    "model.add(Flatten())\n",
    "model.add(Dense(1024, activation='relu'))\n",
    "model.add(Dropout(0.5))\n",
    "model.add(Dense(128, activation='relu'))\n",
    "model.add(Dropout(0.5))\n",
    "model.add(Dense(7, activation='softmax'))\n",
    "\n",
    "cv2.ocl.setUseOpenCL(True)"
   ]
  },
  {
   "cell_type": "code",
   "execution_count": 25,
   "id": "e45aa62d-c3e9-4ec7-8acc-33be9c086b47",
   "metadata": {},
   "outputs": [
    {
     "name": "stdout",
     "output_type": "stream",
     "text": [
      "Model: \"sequential_3\"\n",
      "_________________________________________________________________\n",
      " Layer (type)                Output Shape              Param #   \n",
      "=================================================================\n",
      " conv2d_18 (Conv2D)          (None, 48, 48, 32)        320       \n",
      "                                                                 \n",
      " conv2d_19 (Conv2D)          (None, 46, 46, 64)        18496     \n",
      "                                                                 \n",
      " batch_normalization_9 (Batc  (None, 46, 46, 64)       256       \n",
      " hNormalization)                                                 \n",
      "                                                                 \n",
      " max_pooling2d_14 (MaxPoolin  (None, 23, 23, 64)       0         \n",
      " g2D)                                                            \n",
      "                                                                 \n",
      " dropout_12 (Dropout)        (None, 23, 23, 64)        0         \n",
      "                                                                 \n",
      " conv2d_20 (Conv2D)          (None, 23, 23, 128)       73856     \n",
      "                                                                 \n",
      " max_pooling2d_15 (MaxPoolin  (None, 11, 11, 128)      0         \n",
      " g2D)                                                            \n",
      "                                                                 \n",
      " conv2d_21 (Conv2D)          (None, 9, 9, 256)         295168    \n",
      "                                                                 \n",
      " batch_normalization_10 (Bat  (None, 9, 9, 256)        1024      \n",
      " chNormalization)                                                \n",
      "                                                                 \n",
      " max_pooling2d_16 (MaxPoolin  (None, 4, 4, 256)        0         \n",
      " g2D)                                                            \n",
      "                                                                 \n",
      " dropout_13 (Dropout)        (None, 4, 4, 256)         0         \n",
      "                                                                 \n",
      " conv2d_22 (Conv2D)          (None, 4, 4, 512)         1180160   \n",
      "                                                                 \n",
      " max_pooling2d_17 (MaxPoolin  (None, 2, 2, 512)        0         \n",
      " g2D)                                                            \n",
      "                                                                 \n",
      " conv2d_23 (Conv2D)          (None, 2, 2, 512)         2359808   \n",
      "                                                                 \n",
      " batch_normalization_11 (Bat  (None, 2, 2, 512)        2048      \n",
      " chNormalization)                                                \n",
      "                                                                 \n",
      " max_pooling2d_18 (MaxPoolin  (None, 1, 1, 512)        0         \n",
      " g2D)                                                            \n",
      "                                                                 \n",
      " dropout_14 (Dropout)        (None, 1, 1, 512)         0         \n",
      "                                                                 \n",
      " flatten_2 (Flatten)         (None, 512)               0         \n",
      "                                                                 \n",
      " dense_6 (Dense)             (None, 1024)              525312    \n",
      "                                                                 \n",
      " dropout_15 (Dropout)        (None, 1024)              0         \n",
      "                                                                 \n",
      " dense_7 (Dense)             (None, 128)               131200    \n",
      "                                                                 \n",
      " dropout_16 (Dropout)        (None, 128)               0         \n",
      "                                                                 \n",
      " dense_8 (Dense)             (None, 7)                 903       \n",
      "                                                                 \n",
      "=================================================================\n",
      "Total params: 4,588,551\n",
      "Trainable params: 4,586,887\n",
      "Non-trainable params: 1,664\n",
      "_________________________________________________________________\n"
     ]
    }
   ],
   "source": [
    "model.summary()"
   ]
  },
  {
   "cell_type": "code",
   "execution_count": 26,
   "id": "3fe903de-8197-4b49-b9d4-4672ea1db527",
   "metadata": {},
   "outputs": [],
   "source": [
    "model.compile(loss='categorical_crossentropy', optimizer=Adam(learning_rate=0.0005, decay=1e-6), metrics=['accuracy'])"
   ]
  },
  {
   "cell_type": "code",
   "execution_count": 27,
   "id": "56815377-9cb6-4176-9092-2f6322fe81fe",
   "metadata": {
    "scrolled": true
   },
   "outputs": [
    {
     "name": "stdout",
     "output_type": "stream",
     "text": [
      "Epoch 1/100\n",
      "358/358 [==============================] - 15s 38ms/step - loss: 1.9073 - accuracy: 0.2146 - val_loss: 1.8479 - val_accuracy: 0.2518\n",
      "Epoch 2/100\n",
      "358/358 [==============================] - 13s 37ms/step - loss: 1.7981 - accuracy: 0.2580 - val_loss: 1.7619 - val_accuracy: 0.2647\n",
      "Epoch 3/100\n",
      "358/358 [==============================] - 13s 36ms/step - loss: 1.6372 - accuracy: 0.3461 - val_loss: 1.6283 - val_accuracy: 0.3485\n",
      "Epoch 4/100\n",
      "358/358 [==============================] - 13s 36ms/step - loss: 1.5036 - accuracy: 0.4047 - val_loss: 1.4641 - val_accuracy: 0.4280\n",
      "Epoch 5/100\n",
      "358/358 [==============================] - 13s 36ms/step - loss: 1.4160 - accuracy: 0.4495 - val_loss: 1.4301 - val_accuracy: 0.4458\n",
      "Epoch 6/100\n",
      "358/358 [==============================] - 13s 36ms/step - loss: 1.3493 - accuracy: 0.4815 - val_loss: 1.2784 - val_accuracy: 0.5090\n",
      "Epoch 7/100\n",
      "358/358 [==============================] - 13s 36ms/step - loss: 1.2885 - accuracy: 0.5103 - val_loss: 1.4712 - val_accuracy: 0.3989\n",
      "Epoch 8/100\n",
      "358/358 [==============================] - 13s 36ms/step - loss: 1.2258 - accuracy: 0.5335 - val_loss: 1.2486 - val_accuracy: 0.5263\n",
      "Epoch 9/100\n",
      "358/358 [==============================] - 13s 36ms/step - loss: 1.1788 - accuracy: 0.5531 - val_loss: 1.3060 - val_accuracy: 0.5125\n",
      "Epoch 10/100\n",
      "358/358 [==============================] - 13s 36ms/step - loss: 1.1333 - accuracy: 0.5746 - val_loss: 1.1745 - val_accuracy: 0.5525\n",
      "Epoch 11/100\n",
      "358/358 [==============================] - 13s 36ms/step - loss: 1.0759 - accuracy: 0.5950 - val_loss: 1.2037 - val_accuracy: 0.5492\n",
      "Epoch 12/100\n",
      "358/358 [==============================] - 13s 37ms/step - loss: 1.0193 - accuracy: 0.6149 - val_loss: 1.1647 - val_accuracy: 0.5706\n",
      "Epoch 13/100\n",
      "358/358 [==============================] - 13s 37ms/step - loss: 0.9701 - accuracy: 0.6387 - val_loss: 1.1917 - val_accuracy: 0.5697\n",
      "Epoch 14/100\n",
      "358/358 [==============================] - 13s 37ms/step - loss: 0.9090 - accuracy: 0.6623 - val_loss: 1.2026 - val_accuracy: 0.5790\n",
      "Epoch 15/100\n",
      "358/358 [==============================] - 13s 37ms/step - loss: 0.8410 - accuracy: 0.6856 - val_loss: 1.3198 - val_accuracy: 0.5651\n",
      "Epoch 16/100\n",
      "358/358 [==============================] - 13s 37ms/step - loss: 0.7893 - accuracy: 0.7083 - val_loss: 1.2771 - val_accuracy: 0.5927\n",
      "Epoch 17/100\n",
      "358/358 [==============================] - 13s 36ms/step - loss: 0.7200 - accuracy: 0.7364 - val_loss: 1.2605 - val_accuracy: 0.5988\n",
      "Epoch 18/100\n",
      "358/358 [==============================] - 13s 37ms/step - loss: 0.6710 - accuracy: 0.7586 - val_loss: 1.3807 - val_accuracy: 0.5804\n",
      "Epoch 19/100\n",
      "358/358 [==============================] - 13s 36ms/step - loss: 0.6075 - accuracy: 0.7816 - val_loss: 1.3857 - val_accuracy: 0.5915\n",
      "Epoch 20/100\n",
      "358/358 [==============================] - 13s 37ms/step - loss: 0.5690 - accuracy: 0.7976 - val_loss: 1.5779 - val_accuracy: 0.5908\n",
      "Epoch 21/100\n",
      "358/358 [==============================] - 13s 37ms/step - loss: 0.5059 - accuracy: 0.8192 - val_loss: 1.4886 - val_accuracy: 0.5957\n",
      "Epoch 22/100\n",
      "358/358 [==============================] - 13s 37ms/step - loss: 0.4822 - accuracy: 0.8294 - val_loss: 1.5647 - val_accuracy: 0.5904\n",
      "Epoch 23/100\n",
      "358/358 [==============================] - 13s 37ms/step - loss: 0.4445 - accuracy: 0.8447 - val_loss: 1.5892 - val_accuracy: 0.5815\n",
      "Epoch 24/100\n",
      "358/358 [==============================] - 13s 37ms/step - loss: 0.3975 - accuracy: 0.8594 - val_loss: 1.6240 - val_accuracy: 0.5829\n",
      "Epoch 25/100\n",
      "358/358 [==============================] - 13s 37ms/step - loss: 0.3755 - accuracy: 0.8705 - val_loss: 1.7422 - val_accuracy: 0.5987\n",
      "Epoch 26/100\n",
      "358/358 [==============================] - 13s 37ms/step - loss: 0.3503 - accuracy: 0.8797 - val_loss: 1.7153 - val_accuracy: 0.5969\n",
      "Epoch 27/100\n",
      "358/358 [==============================] - 13s 36ms/step - loss: 0.3246 - accuracy: 0.8899 - val_loss: 1.6725 - val_accuracy: 0.5974\n",
      "Epoch 28/100\n",
      "358/358 [==============================] - 13s 37ms/step - loss: 0.2927 - accuracy: 0.8981 - val_loss: 2.1043 - val_accuracy: 0.5571\n",
      "Epoch 29/100\n",
      "358/358 [==============================] - 13s 37ms/step - loss: 0.2819 - accuracy: 0.9052 - val_loss: 1.7606 - val_accuracy: 0.5927\n",
      "Epoch 30/100\n",
      "358/358 [==============================] - 13s 37ms/step - loss: 0.2711 - accuracy: 0.9086 - val_loss: 1.8937 - val_accuracy: 0.5841\n",
      "Epoch 31/100\n",
      "358/358 [==============================] - 13s 37ms/step - loss: 0.2522 - accuracy: 0.9148 - val_loss: 1.9281 - val_accuracy: 0.5974\n",
      "Epoch 32/100\n",
      "358/358 [==============================] - 13s 37ms/step - loss: 0.2259 - accuracy: 0.9249 - val_loss: 2.1129 - val_accuracy: 0.5981\n",
      "Epoch 33/100\n",
      "358/358 [==============================] - 13s 37ms/step - loss: 0.2184 - accuracy: 0.9283 - val_loss: 1.8794 - val_accuracy: 0.5866\n",
      "Epoch 34/100\n",
      "358/358 [==============================] - 13s 37ms/step - loss: 0.2105 - accuracy: 0.9291 - val_loss: 1.9036 - val_accuracy: 0.5927\n",
      "Epoch 35/100\n",
      "358/358 [==============================] - 13s 37ms/step - loss: 0.2019 - accuracy: 0.9346 - val_loss: 2.1514 - val_accuracy: 0.6043\n",
      "Epoch 36/100\n",
      "358/358 [==============================] - 13s 37ms/step - loss: 0.1850 - accuracy: 0.9366 - val_loss: 2.4898 - val_accuracy: 0.5678\n",
      "Epoch 37/100\n",
      "358/358 [==============================] - 13s 37ms/step - loss: 0.1831 - accuracy: 0.9404 - val_loss: 2.1761 - val_accuracy: 0.5779\n",
      "Epoch 38/100\n",
      "358/358 [==============================] - 13s 37ms/step - loss: 0.1747 - accuracy: 0.9423 - val_loss: 1.9781 - val_accuracy: 0.6034\n",
      "Epoch 39/100\n",
      "358/358 [==============================] - 13s 37ms/step - loss: 0.1818 - accuracy: 0.9413 - val_loss: 2.3328 - val_accuracy: 0.5894\n",
      "Epoch 40/100\n",
      "358/358 [==============================] - 13s 37ms/step - loss: 0.1655 - accuracy: 0.9459 - val_loss: 2.2171 - val_accuracy: 0.5923\n",
      "Epoch 41/100\n",
      "358/358 [==============================] - 13s 37ms/step - loss: 0.1460 - accuracy: 0.9527 - val_loss: 2.2169 - val_accuracy: 0.5887\n",
      "Epoch 42/100\n",
      "358/358 [==============================] - 13s 37ms/step - loss: 0.1589 - accuracy: 0.9502 - val_loss: 2.3250 - val_accuracy: 0.6004\n",
      "Epoch 43/100\n",
      "358/358 [==============================] - 13s 37ms/step - loss: 0.1496 - accuracy: 0.9507 - val_loss: 2.3792 - val_accuracy: 0.5911\n",
      "Epoch 44/100\n",
      "358/358 [==============================] - 13s 37ms/step - loss: 0.1497 - accuracy: 0.9530 - val_loss: 2.1286 - val_accuracy: 0.5911\n",
      "Epoch 45/100\n",
      "358/358 [==============================] - 13s 37ms/step - loss: 0.1454 - accuracy: 0.9546 - val_loss: 2.3041 - val_accuracy: 0.5995\n",
      "Epoch 46/100\n",
      "358/358 [==============================] - 13s 37ms/step - loss: 0.1222 - accuracy: 0.9605 - val_loss: 2.3643 - val_accuracy: 0.5822\n",
      "Epoch 47/100\n",
      "358/358 [==============================] - 13s 37ms/step - loss: 0.1300 - accuracy: 0.9582 - val_loss: 2.2651 - val_accuracy: 0.5999\n",
      "Epoch 48/100\n",
      "358/358 [==============================] - 13s 37ms/step - loss: 0.1324 - accuracy: 0.9590 - val_loss: 2.1552 - val_accuracy: 0.5915\n",
      "Epoch 49/100\n",
      "358/358 [==============================] - 13s 37ms/step - loss: 0.1197 - accuracy: 0.9602 - val_loss: 2.4546 - val_accuracy: 0.5932\n",
      "Epoch 50/100\n",
      "358/358 [==============================] - 13s 36ms/step - loss: 0.1200 - accuracy: 0.9611 - val_loss: 2.4243 - val_accuracy: 0.5969\n",
      "Epoch 51/100\n",
      "358/358 [==============================] - 13s 37ms/step - loss: 0.1261 - accuracy: 0.9610 - val_loss: 2.2833 - val_accuracy: 0.6022\n",
      "Epoch 52/100\n",
      "358/358 [==============================] - 13s 37ms/step - loss: 0.1212 - accuracy: 0.9604 - val_loss: 2.4303 - val_accuracy: 0.5853\n",
      "Epoch 53/100\n",
      "358/358 [==============================] - 13s 37ms/step - loss: 0.1171 - accuracy: 0.9649 - val_loss: 2.2554 - val_accuracy: 0.5880\n",
      "Epoch 54/100\n",
      "358/358 [==============================] - 13s 37ms/step - loss: 0.1143 - accuracy: 0.9626 - val_loss: 2.4185 - val_accuracy: 0.5966\n",
      "Epoch 55/100\n",
      "358/358 [==============================] - 13s 37ms/step - loss: 0.1231 - accuracy: 0.9610 - val_loss: 2.4965 - val_accuracy: 0.6020\n",
      "Epoch 56/100\n",
      "358/358 [==============================] - 14s 38ms/step - loss: 0.1119 - accuracy: 0.9664 - val_loss: 2.4384 - val_accuracy: 0.6013\n",
      "Epoch 57/100\n",
      "358/358 [==============================] - 13s 37ms/step - loss: 0.1048 - accuracy: 0.9674 - val_loss: 2.3009 - val_accuracy: 0.6038\n",
      "Epoch 58/100\n",
      "358/358 [==============================] - 13s 38ms/step - loss: 0.1023 - accuracy: 0.9665 - val_loss: 2.3612 - val_accuracy: 0.5964\n",
      "Epoch 59/100\n",
      "358/358 [==============================] - 14s 38ms/step - loss: 0.1066 - accuracy: 0.9673 - val_loss: 2.4779 - val_accuracy: 0.6052\n",
      "Epoch 60/100\n",
      "358/358 [==============================] - 13s 37ms/step - loss: 0.1071 - accuracy: 0.9656 - val_loss: 2.3999 - val_accuracy: 0.6066\n",
      "Epoch 61/100\n",
      "358/358 [==============================] - 13s 37ms/step - loss: 0.0879 - accuracy: 0.9705 - val_loss: 2.5797 - val_accuracy: 0.5985\n",
      "Epoch 62/100\n",
      "358/358 [==============================] - 13s 37ms/step - loss: 0.0998 - accuracy: 0.9694 - val_loss: 2.4788 - val_accuracy: 0.5966\n",
      "Epoch 63/100\n",
      "358/358 [==============================] - 13s 37ms/step - loss: 0.0994 - accuracy: 0.9681 - val_loss: 2.4003 - val_accuracy: 0.6073\n",
      "Epoch 64/100\n",
      "358/358 [==============================] - 13s 38ms/step - loss: 0.0926 - accuracy: 0.9709 - val_loss: 2.5256 - val_accuracy: 0.5918\n",
      "Epoch 65/100\n",
      "358/358 [==============================] - 13s 37ms/step - loss: 0.0981 - accuracy: 0.9695 - val_loss: 2.3226 - val_accuracy: 0.5923\n",
      "Epoch 66/100\n",
      "358/358 [==============================] - 13s 37ms/step - loss: 0.0952 - accuracy: 0.9708 - val_loss: 2.4326 - val_accuracy: 0.5995\n",
      "Epoch 67/100\n",
      "358/358 [==============================] - 13s 37ms/step - loss: 0.0868 - accuracy: 0.9720 - val_loss: 2.5363 - val_accuracy: 0.5992\n",
      "Epoch 68/100\n",
      "358/358 [==============================] - 13s 38ms/step - loss: 0.0871 - accuracy: 0.9714 - val_loss: 2.5548 - val_accuracy: 0.5916\n",
      "Epoch 69/100\n",
      "358/358 [==============================] - 13s 38ms/step - loss: 0.0876 - accuracy: 0.9723 - val_loss: 2.4594 - val_accuracy: 0.6004\n",
      "Epoch 70/100\n",
      "358/358 [==============================] - 13s 37ms/step - loss: 0.0945 - accuracy: 0.9714 - val_loss: 2.3695 - val_accuracy: 0.5908\n",
      "Epoch 71/100\n",
      "358/358 [==============================] - 13s 37ms/step - loss: 0.0850 - accuracy: 0.9728 - val_loss: 2.5589 - val_accuracy: 0.6041\n",
      "Epoch 72/100\n",
      "358/358 [==============================] - 13s 37ms/step - loss: 0.0934 - accuracy: 0.9719 - val_loss: 2.4049 - val_accuracy: 0.6055\n",
      "Epoch 73/100\n",
      "358/358 [==============================] - 13s 37ms/step - loss: 0.0819 - accuracy: 0.9739 - val_loss: 2.5545 - val_accuracy: 0.6020\n",
      "Epoch 74/100\n",
      "358/358 [==============================] - 13s 37ms/step - loss: 0.0804 - accuracy: 0.9756 - val_loss: 2.7513 - val_accuracy: 0.6017\n",
      "Epoch 75/100\n",
      "358/358 [==============================] - 13s 37ms/step - loss: 0.0768 - accuracy: 0.9750 - val_loss: 2.5984 - val_accuracy: 0.5999\n",
      "Epoch 76/100\n",
      "358/358 [==============================] - 13s 38ms/step - loss: 0.0789 - accuracy: 0.9748 - val_loss: 2.6149 - val_accuracy: 0.5981\n",
      "Epoch 77/100\n",
      "358/358 [==============================] - 13s 37ms/step - loss: 0.0753 - accuracy: 0.9755 - val_loss: 2.3929 - val_accuracy: 0.5918\n",
      "Epoch 78/100\n",
      "358/358 [==============================] - 13s 37ms/step - loss: 0.0781 - accuracy: 0.9751 - val_loss: 2.6091 - val_accuracy: 0.6018\n",
      "Epoch 79/100\n",
      "358/358 [==============================] - 13s 37ms/step - loss: 0.0802 - accuracy: 0.9744 - val_loss: 2.4974 - val_accuracy: 0.5904\n",
      "Epoch 80/100\n",
      "358/358 [==============================] - 13s 37ms/step - loss: 0.0779 - accuracy: 0.9754 - val_loss: 2.5460 - val_accuracy: 0.5934\n",
      "Epoch 81/100\n",
      "358/358 [==============================] - 13s 37ms/step - loss: 0.0733 - accuracy: 0.9769 - val_loss: 2.5687 - val_accuracy: 0.5969\n",
      "Epoch 82/100\n",
      "358/358 [==============================] - 13s 37ms/step - loss: 0.0690 - accuracy: 0.9793 - val_loss: 2.8979 - val_accuracy: 0.5916\n",
      "Epoch 83/100\n",
      "358/358 [==============================] - 13s 37ms/step - loss: 0.0849 - accuracy: 0.9733 - val_loss: 2.6179 - val_accuracy: 0.5997\n",
      "Epoch 84/100\n",
      "358/358 [==============================] - 13s 37ms/step - loss: 0.0784 - accuracy: 0.9755 - val_loss: 2.5046 - val_accuracy: 0.5964\n",
      "Epoch 85/100\n",
      "358/358 [==============================] - 13s 37ms/step - loss: 0.0704 - accuracy: 0.9784 - val_loss: 2.7566 - val_accuracy: 0.5985\n",
      "Epoch 86/100\n",
      "358/358 [==============================] - 13s 38ms/step - loss: 0.0767 - accuracy: 0.9753 - val_loss: 2.5618 - val_accuracy: 0.6015\n",
      "Epoch 87/100\n",
      "358/358 [==============================] - 13s 37ms/step - loss: 0.0679 - accuracy: 0.9779 - val_loss: 2.7551 - val_accuracy: 0.6062\n",
      "Epoch 88/100\n",
      "358/358 [==============================] - 13s 37ms/step - loss: 0.0747 - accuracy: 0.9787 - val_loss: 2.5775 - val_accuracy: 0.5945\n",
      "Epoch 89/100\n",
      "358/358 [==============================] - 13s 37ms/step - loss: 0.0731 - accuracy: 0.9772 - val_loss: 2.4466 - val_accuracy: 0.6076\n",
      "Epoch 90/100\n",
      "358/358 [==============================] - 14s 38ms/step - loss: 0.0664 - accuracy: 0.9795 - val_loss: 2.8468 - val_accuracy: 0.5929\n",
      "Epoch 91/100\n",
      "358/358 [==============================] - 13s 38ms/step - loss: 0.0748 - accuracy: 0.9776 - val_loss: 2.5582 - val_accuracy: 0.6015\n",
      "Epoch 92/100\n",
      "358/358 [==============================] - 13s 38ms/step - loss: 0.0608 - accuracy: 0.9809 - val_loss: 2.8846 - val_accuracy: 0.5981\n",
      "Epoch 93/100\n",
      "358/358 [==============================] - 13s 37ms/step - loss: 0.0695 - accuracy: 0.9779 - val_loss: 2.7224 - val_accuracy: 0.6015\n",
      "Epoch 94/100\n",
      "358/358 [==============================] - 14s 38ms/step - loss: 0.0631 - accuracy: 0.9801 - val_loss: 2.8281 - val_accuracy: 0.5943\n",
      "Epoch 95/100\n",
      "358/358 [==============================] - 13s 37ms/step - loss: 0.0617 - accuracy: 0.9808 - val_loss: 2.7691 - val_accuracy: 0.5825\n",
      "Epoch 96/100\n",
      "358/358 [==============================] - 13s 37ms/step - loss: 0.0607 - accuracy: 0.9813 - val_loss: 2.7962 - val_accuracy: 0.5911\n",
      "Epoch 97/100\n",
      "358/358 [==============================] - 13s 37ms/step - loss: 0.0665 - accuracy: 0.9788 - val_loss: 2.6679 - val_accuracy: 0.6048\n",
      "Epoch 98/100\n",
      "358/358 [==============================] - 14s 38ms/step - loss: 0.0678 - accuracy: 0.9800 - val_loss: 2.7057 - val_accuracy: 0.5974\n",
      "Epoch 99/100\n",
      "358/358 [==============================] - 13s 37ms/step - loss: 0.0570 - accuracy: 0.9809 - val_loss: 2.9662 - val_accuracy: 0.5971\n",
      "Epoch 100/100\n",
      "358/358 [==============================] - 13s 37ms/step - loss: 0.0622 - accuracy: 0.9817 - val_loss: 3.0051 - val_accuracy: 0.5911\n"
     ]
    }
   ],
   "source": [
    "emotion_model_info = model.fit(\n",
    "    train_generator,\n",
    "    steps_per_epoch = train_generator.n // BATCH_SIZE,\n",
    "    epochs = 100,\n",
    "    validation_data = valid_generator,\n",
    "    validation_steps = valid_generator.n // BATCH_SIZE\n",
    ")"
   ]
  },
  {
   "cell_type": "code",
   "execution_count": 19,
   "id": "055c69cf-82c1-4529-bfec-0a385d435c88",
   "metadata": {},
   "outputs": [
    {
     "name": "stdout",
     "output_type": "stream",
     "text": [
      "112/112 [==============================] - 3s 29ms/step - loss: 2.6218 - accuracy: 0.6119\n",
      "accuracy: 61.19%\n",
      "loss: 2.62\n"
     ]
    }
   ],
   "source": [
    "test_loss, test_accuracy = model.evaluate(test_generator, batch_size = BATCH_SIZE, steps= test_generator.n//BATCH_SIZE)\n",
    "print(f\"accuracy: {test_accuracy*100:.2f}%\")\n",
    "print(f\"loss: {test_loss:.2f}\")"
   ]
  },
  {
   "cell_type": "code",
   "execution_count": 20,
   "id": "ce5b1e69-eaed-4aa0-be4f-9f1876649dec",
   "metadata": {},
   "outputs": [
    {
     "name": "stdout",
     "output_type": "stream",
     "text": [
      "113/113 [==============================] - 4s 31ms/step\n"
     ]
    }
   ],
   "source": [
    "predictions = model.predict(test_generator)\n",
    "predicted_classes = np.argmax(predictions, axis=1)"
   ]
  },
  {
   "cell_type": "code",
   "execution_count": 21,
   "id": "d2e67940-ea1a-4bbb-b093-1c76f747d202",
   "metadata": {},
   "outputs": [],
   "source": [
    "true_classes = test_generator.classes\n",
    "class_labels = list(test_generator.class_indices.keys())"
   ]
  },
  {
   "cell_type": "code",
   "execution_count": 22,
   "id": "bca9f737-36d0-4ce0-a32f-a279ff1c7bc4",
   "metadata": {},
   "outputs": [
    {
     "name": "stdout",
     "output_type": "stream",
     "text": [
      "              precision    recall  f1-score   support\n",
      "\n",
      "       angry       0.12      0.10      0.11       958\n",
      "     disgust       0.03      0.02      0.02       111\n",
      "        fear       0.14      0.12      0.13      1024\n",
      "       happy       0.25      0.31      0.28      1774\n",
      "     neutral       0.18      0.21      0.19      1233\n",
      "         sad       0.17      0.13      0.15      1247\n",
      "    surprise       0.12      0.12      0.12       831\n",
      "\n",
      "    accuracy                           0.18      7178\n",
      "   macro avg       0.14      0.14      0.14      7178\n",
      "weighted avg       0.17      0.18      0.17      7178\n",
      "\n"
     ]
    }
   ],
   "source": [
    "from sklearn.metrics import classification_report\n",
    "report = classification_report(true_classes, predicted_classes, target_names=class_labels)\n",
    "print(report)"
   ]
  },
  {
   "cell_type": "code",
   "execution_count": null,
   "id": "7aa75ca1-61c7-4d8b-bb34-0d9eae63e3c5",
   "metadata": {},
   "outputs": [],
   "source": []
  }
 ],
 "metadata": {
  "kernelspec": {
   "display_name": "Python 3 (ipykernel)",
   "language": "python",
   "name": "python3"
  },
  "language_info": {
   "codemirror_mode": {
    "name": "ipython",
    "version": 3
   },
   "file_extension": ".py",
   "mimetype": "text/x-python",
   "name": "python",
   "nbconvert_exporter": "python",
   "pygments_lexer": "ipython3",
   "version": "3.10.14"
  }
 },
 "nbformat": 4,
 "nbformat_minor": 5
}
